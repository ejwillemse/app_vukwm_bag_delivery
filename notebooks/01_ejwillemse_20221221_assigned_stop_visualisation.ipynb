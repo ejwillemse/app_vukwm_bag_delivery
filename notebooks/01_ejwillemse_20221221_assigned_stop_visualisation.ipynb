{
 "cells": [
  {
   "cell_type": "code",
   "execution_count": 211,
   "metadata": {},
   "outputs": [],
   "source": [
    "import os\n",
    "import logging\n",
    "working_directory = os.getcwd() + \"/\"\n",
    "project_name = \"app_vukwm_bag_delivery/\"\n",
    "if project_name in working_directory:\n",
    "    base_directory = working_directory[:working_directory.find(project_name) + len(project_name)]\n",
    "    os.chdir(base_directory)\n",
    "    working_directory = os.getcwd() + \"/\"\n",
    "    logging.info(f\"Working directory changed to {working_directory}\")\n",
    "else:\n",
    "    logging.warning(f\"Project directory {project_name} not found in {working_directory}\")"
   ]
  },
  {
   "cell_type": "code",
   "execution_count": 212,
   "metadata": {},
   "outputs": [],
   "source": [
    "from keplergl import KeplerGl\n",
    "import pandas as pd"
   ]
  },
  {
   "cell_type": "code",
   "execution_count": 213,
   "metadata": {},
   "outputs": [],
   "source": [
    "assigned_stops = pd.read_csv(\"data/local_test/04_View_Routes/assigned_stops.csv\")\n",
    "unassigned_jobs = pd.read_csv(\"data/local_test/04_View_Routes/unassigned_jobs.csv\")\n",
    "unassigned_stops = pd.read_csv(\"data/local_test/04_View_Routes/unassigned_stops.csv\")\n",
    "unassigned_routes = pd.read_csv(\"data/local_test/04_View_Routes/unassigned_routes.csv\")\n",
    "unserviced_stops = pd.read_csv(\"data/local_test/04_View_Routes/unserviced_stops.csv\")"
   ]
  },
  {
   "cell_type": "code",
   "execution_count": 214,
   "metadata": {},
   "outputs": [
    {
     "data": {
      "text/html": [
       "<div>\n",
       "<style scoped>\n",
       "    .dataframe tbody tr th:only-of-type {\n",
       "        vertical-align: middle;\n",
       "    }\n",
       "\n",
       "    .dataframe tbody tr th {\n",
       "        vertical-align: top;\n",
       "    }\n",
       "\n",
       "    .dataframe thead th {\n",
       "        text-align: right;\n",
       "    }\n",
       "</style>\n",
       "<table border=\"1\" class=\"dataframe\">\n",
       "  <thead>\n",
       "    <tr style=\"text-align: right;\">\n",
       "      <th></th>\n",
       "      <th>Customer Bk</th>\n",
       "      <th>Site Bk</th>\n",
       "      <th>Site Name</th>\n",
       "      <th>Transport Area Code</th>\n",
       "      <th>Product description</th>\n",
       "      <th>Site Address</th>\n",
       "      <th>Ticket No</th>\n",
       "      <th>latitude</th>\n",
       "      <th>longitude</th>\n",
       "    </tr>\n",
       "  </thead>\n",
       "  <tbody>\n",
       "  </tbody>\n",
       "</table>\n",
       "</div>"
      ],
      "text/plain": [
       "Empty DataFrame\n",
       "Columns: [Customer Bk, Site Bk, Site Name, Transport Area Code, Product description, Site Address, Ticket No, latitude, longitude]\n",
       "Index: []"
      ]
     },
     "execution_count": 214,
     "metadata": {},
     "output_type": "execute_result"
    }
   ],
   "source": [
    "def display_format(unassigned_stops):\n",
    "    unassigned_stops = unassigned_stops[\n",
    "        [\n",
    "            \"Customer Bk\",\n",
    "            \"Site Bk\",\n",
    "            \"Site Name\",\n",
    "            \"Transport Area Code\",\n",
    "            \"Product description\",\n",
    "            \"Site Address\",\n",
    "            \"Ticket No\",\n",
    "        ]\n",
    "    ].copy()\n",
    "    unassigned_stops[\"Product description\"] = unassigned_stops[\n",
    "        \"Product description\"\n",
    "    ].str.replace(\"\\n\", \"; \")\n",
    "    unassigned_stops[\"Site Bk\"] = unassigned_stops[\"Site Bk\"].astype(str)\n",
    "    return unassigned_stops\n",
    "\n",
    "\n",
    "def display_format_unscheduled_stops(unassigned_stops, unserviced_stops):\n",
    "    unassigned_stops_display = display_format(unassigned_stops)\n",
    "    unscheduled_stops_display = unassigned_stops_display.merge(\n",
    "        unserviced_stops[[\"latitude\", \"longitude\", \"stop_id\"]]\n",
    "        .assign(stop_id=unserviced_stops[\"stop_id\"].astype(str))\n",
    "        .rename(columns={\"stop_id\": \"Site Bk\"}),\n",
    "        how=\"inner\",\n",
    "        left_on=\"Site Bk\",\n",
    "        right_on=\"Site Bk\",\n",
    "        validate=\"1:1\",\n",
    "    )\n",
    "    return unscheduled_stops_display\n",
    "\n",
    "\n",
    "unserviced_stops_display = display_format_unscheduled_stops(\n",
    "    unassigned_stops, unserviced_stops\n",
    ")\n",
    "unserviced_stops_display\n"
   ]
  },
  {
   "cell_type": "code",
   "execution_count": 215,
   "metadata": {},
   "outputs": [
    {
     "data": {
      "text/plain": [
       "Index(['Vehicle Id', 'Vehicle profile', 'Site Bk', 'Stop sequence',\n",
       "       'Job sequence', 'Arrival time', 'Service start time', 'Departure time',\n",
       "       'Waiting time (minutes)', 'Travel duration to stop (minutes)',\n",
       "       'Travel distance to stops (km)', 'Travel speed (km/h)',\n",
       "       'Service duration (minutes)', 'Activity type', 'Skills', 'latitude',\n",
       "       'longitude', 'travel_path_to_stop', 'road_longitude', 'road_latitude',\n",
       "       'Time window start', 'Time window end', 'Service issues', 'Customer Bk',\n",
       "       'Site Name', 'Transport Area Code', 'Product description',\n",
       "       'Site Address', 'Ticket No'],\n",
       "      dtype='object')"
      ]
     },
     "execution_count": 215,
     "metadata": {},
     "output_type": "execute_result"
    }
   ],
   "source": [
    "MAPPING = {\n",
    "    \"route_id\": \"Vehicle Id\",\n",
    "    \"vehicle_profile\": \"Vehicle profile\",\n",
    "    \"stop_id\": \"Site Bk\",\n",
    "    \"stop_sequence\": \"Stop sequence\",\n",
    "    \"job_sequence\": \"Job sequence\",\n",
    "    \"arrival_time\": \"Arrival time\",\n",
    "    \"service_start_time\": \"Service start time\",\n",
    "    \"departure_time\": \"Departure time\",\n",
    "    \"waiting_duration__seconds\": \"Waiting time (minutes)\",\n",
    "    \"travel_duration_to_stop__seconds\": \"Travel duration to stop (minutes)\",\n",
    "    \"travel_distance_to_stop__meters\": \"Travel distance to stops (km)\",\n",
    "    \"travel_speed__kmh\": \"Travel speed (km/h)\",\n",
    "    \"service_duration__seconds\": \"Service duration (minutes)\",\n",
    "    \"activity_type\": \"Activity type\",\n",
    "    \"skills\": \"Skills\",\n",
    "    \"latitude\": \"latitude\",\n",
    "    \"longitude\": \"longitude\",\n",
    "    \"travel_path_to_stop\": \"travel_path_to_stop\",\n",
    "    \"road_snap_longitude\": \"road_longitude\",\n",
    "    \"road_snap_latitude\": \"road_latitude\",\n",
    "    \"time_window_start\": \"Time window start\",\n",
    "    \"time_window_end\": \"Time window end\",\n",
    "    \"service_issue\": \"Service issues\",\n",
    "}\n",
    "\n",
    "VEHICLE_TYPE_MAPPING = {\"auto\": \"Van\", \"bicycle\": \"Bicycle\"}\n",
    "\n",
    "\n",
    "def unit_conversions(assigned_stops):\n",
    "    assigned_stops = assigned_stops.assign(\n",
    "        vehicle_profile=assigned_stops[\"vehicle_profile\"].replace(VEHICLE_TYPE_MAPPING),\n",
    "        waiting_duration__seconds=(\n",
    "            assigned_stops[\"waiting_duration__seconds\"] / 60\n",
    "        )  # to minutes\n",
    "        .round(0)\n",
    "        .astype(int),\n",
    "        travel_distance_to_stop__meters=(\n",
    "            assigned_stops[\"travel_distance_to_stop__meters\"] / 1000\n",
    "        ).round(2),\n",
    "        travel_duration_to_stop__seconds=(\n",
    "            assigned_stops[\"travel_duration_to_stop__seconds\"] / 60\n",
    "        )  # to minutes\n",
    "        .round(0)\n",
    "        .astype(int),\n",
    "        service_duration__seconds=(\n",
    "            assigned_stops[\"service_duration__seconds\"] / 60\n",
    "        )  # to minutes\n",
    "        .round(0)\n",
    "        .astype(int),\n",
    "        travel_speed__kmh=(assigned_stops[\"travel_speed__kmh\"]).round(1),\n",
    "    )\n",
    "    return assigned_stops\n",
    "\n",
    "\n",
    "assigned_stops_display = unit_conversions(assigned_stops)\n",
    "assigned_stops_display = assigned_stops_display.rename(columns=MAPPING)[\n",
    "    MAPPING.values()\n",
    "]\n",
    "unassigned_stops_display = display_format(unassigned_stops)\n",
    "assigned_stops_display = assigned_stops_display.merge(\n",
    "    unassigned_stops_display, left_on=\"Site Bk\", right_on=\"Site Bk\", how=\"left\"\n",
    ").fillna(\" \")\n",
    "assigned_stops_display.columns\n"
   ]
  },
  {
   "cell_type": "code",
   "execution_count": 216,
   "metadata": {},
   "outputs": [],
   "source": [
    "def combine_vehicle_id_type(df):\n",
    "    df = df.sort_values([\"Vehicle id\"])\n",
    "    vehicles = df[\"Vehicle id\"].values\n",
    "    profiles = df[\"Type\"].values\n",
    "    vehicle_info = \"; \".join(\n",
    "        [f\"{vehicles[i]} ({profiles[i]})\" for i in range(vehicles.shape[0])]\n",
    "    )\n",
    "    return vehicle_info\n",
    "\n",
    "\n",
    "def display_foramt_depot(unassigned_routes):\n",
    "    depots = (\n",
    "        unassigned_routes.groupby([\"Depot\", \"lon\", \"lat\"])\n",
    "        .apply(combine_vehicle_id_type)\n",
    "        .reset_index()\n",
    "        .rename(columns={0: \"Vehicles\"})\n",
    "    )\n",
    "    return depots\n",
    "\n",
    "depots = display_foramt_depot(unassigned_routes)"
   ]
  },
  {
   "cell_type": "code",
   "execution_count": 217,
   "metadata": {},
   "outputs": [],
   "source": [
    "config = {\n",
    "    \"version\": \"v1\",\n",
    "    \"config\": {\n",
    "        \"visState\": {\n",
    "            \"filters\": [\n",
    "                {\n",
    "                    \"dataId\": [\"assigned_stops\"],\n",
    "                    \"id\": \"6migbh5d7\",\n",
    "                    \"name\": [\"Arrival time\"],\n",
    "                    \"type\": \"timeRange\",\n",
    "                    \"value\": [0, 9673451419000],\n",
    "                    \"enlarged\": True,\n",
    "                    \"plotType\": \"histogram\",\n",
    "                    \"animationWindow\": \"incremental\",\n",
    "                    \"yAxis\": None,\n",
    "                    \"speed\": 1,\n",
    "                },\n",
    "                {\n",
    "                    \"dataId\": [\"assigned_stops\"],\n",
    "                    \"id\": \"9zf5366ym\",\n",
    "                    \"name\": [\"Vehicle Id\"],\n",
    "                    \"type\": \"multiSelect\",\n",
    "                    \"value\": [],\n",
    "                    \"enlarged\": False,\n",
    "                    \"plotType\": \"histogram\",\n",
    "                    \"animationWindow\": \"free\",\n",
    "                    \"yAxis\": None,\n",
    "                    \"speed\": 1,\n",
    "                },\n",
    "            ],\n",
    "            \"layers\": [\n",
    "                {\n",
    "                    \"id\": \"30wwgdw\",\n",
    "                    \"type\": \"point\",\n",
    "                    \"config\": {\n",
    "                        \"dataId\": \"assigned_stops\",\n",
    "                        \"label\": \"Stop\",\n",
    "                        \"color\": [255, 153, 31],\n",
    "                        \"highlightColor\": [252, 242, 26, 255],\n",
    "                        \"columns\": {\n",
    "                            \"lat\": \"latitude\",\n",
    "                            \"lng\": \"longitude\",\n",
    "                            \"altitude\": None,\n",
    "                        },\n",
    "                        \"isVisible\": True,\n",
    "                        \"visConfig\": {\n",
    "                            \"radius\": 30,\n",
    "                            \"fixedRadius\": False,\n",
    "                            \"opacity\": 0.75,\n",
    "                            \"outline\": False,\n",
    "                            \"thickness\": 2,\n",
    "                            \"strokeColor\": None,\n",
    "                            \"colorRange\": {\n",
    "                                \"name\": \"Uber Viz Qualitative 4\",\n",
    "                                \"type\": \"qualitative\",\n",
    "                                \"category\": \"Uber\",\n",
    "                                \"colors\": [\n",
    "                                    \"#12939A\",\n",
    "                                    \"#DDB27C\",\n",
    "                                    \"#88572C\",\n",
    "                                    \"#FF991F\",\n",
    "                                    \"#F15C17\",\n",
    "                                    \"#223F9A\",\n",
    "                                    \"#DA70BF\",\n",
    "                                    \"#125C77\",\n",
    "                                    \"#4DC19C\",\n",
    "                                    \"#776E57\",\n",
    "                                    \"#17B8BE\",\n",
    "                                    \"#F6D18A\",\n",
    "                                    \"#B7885E\",\n",
    "                                    \"#FFCB99\",\n",
    "                                    \"#F89570\",\n",
    "                                    \"#829AE3\",\n",
    "                                    \"#E79FD5\",\n",
    "                                    \"#1E96BE\",\n",
    "                                    \"#89DAC1\",\n",
    "                                    \"#B3AD9E\",\n",
    "                                ],\n",
    "                            },\n",
    "                            \"strokeColorRange\": {\n",
    "                                \"name\": \"Global Warming\",\n",
    "                                \"type\": \"sequential\",\n",
    "                                \"category\": \"Uber\",\n",
    "                                \"colors\": [\n",
    "                                    \"#5A1846\",\n",
    "                                    \"#900C3F\",\n",
    "                                    \"#C70039\",\n",
    "                                    \"#E3611C\",\n",
    "                                    \"#F1920E\",\n",
    "                                    \"#FFC300\",\n",
    "                                ],\n",
    "                            },\n",
    "                            \"radiusRange\": [0, 50],\n",
    "                            \"filled\": True,\n",
    "                        },\n",
    "                        \"hidden\": False,\n",
    "                        \"textLabel\": [\n",
    "                            {\n",
    "                                \"field\": {\"name\": \"Job sequence\", \"type\": \"integer\"},\n",
    "                                \"color\": [255, 255, 255],\n",
    "                                \"size\": 16,\n",
    "                                \"offset\": [0, 0],\n",
    "                                \"anchor\": \"middle\",\n",
    "                                \"alignment\": \"center\",\n",
    "                            }\n",
    "                        ],\n",
    "                    },\n",
    "                    \"visualChannels\": {\n",
    "                        \"colorField\": {\"name\": \"Vehicle Id\", \"type\": \"string\"},\n",
    "                        \"colorScale\": \"ordinal\",\n",
    "                        \"strokeColorField\": None,\n",
    "                        \"strokeColorScale\": \"quantile\",\n",
    "                        \"sizeField\": None,\n",
    "                        \"sizeScale\": \"linear\",\n",
    "                    },\n",
    "                },\n",
    "                {\n",
    "                    \"id\": \"vb8tg8f\",\n",
    "                    \"type\": \"arc\",\n",
    "                    \"config\": {\n",
    "                        \"dataId\": \"assigned_stops\",\n",
    "                        \"label\": \"Stop to road link\",\n",
    "                        \"color\": [146, 38, 198],\n",
    "                        \"highlightColor\": [252, 242, 26, 255],\n",
    "                        \"columns\": {\n",
    "                            \"lat0\": \"latitude\",\n",
    "                            \"lng0\": \"longitude\",\n",
    "                            \"lat1\": \"road_latitude\",\n",
    "                            \"lng1\": \"road_longitude\",\n",
    "                        },\n",
    "                        \"isVisible\": True,\n",
    "                        \"visConfig\": {\n",
    "                            \"opacity\": 0.5,\n",
    "                            \"thickness\": 3,\n",
    "                            \"colorRange\": {\n",
    "                                \"name\": \"Uber Viz Qualitative 4\",\n",
    "                                \"type\": \"qualitative\",\n",
    "                                \"category\": \"Uber\",\n",
    "                                \"colors\": [\n",
    "                                    \"#12939A\",\n",
    "                                    \"#DDB27C\",\n",
    "                                    \"#88572C\",\n",
    "                                    \"#FF991F\",\n",
    "                                    \"#F15C17\",\n",
    "                                    \"#223F9A\",\n",
    "                                    \"#DA70BF\",\n",
    "                                    \"#125C77\",\n",
    "                                    \"#4DC19C\",\n",
    "                                    \"#776E57\",\n",
    "                                    \"#17B8BE\",\n",
    "                                    \"#F6D18A\",\n",
    "                                    \"#B7885E\",\n",
    "                                    \"#FFCB99\",\n",
    "                                    \"#F89570\",\n",
    "                                    \"#829AE3\",\n",
    "                                    \"#E79FD5\",\n",
    "                                    \"#1E96BE\",\n",
    "                                    \"#89DAC1\",\n",
    "                                    \"#B3AD9E\",\n",
    "                                ],\n",
    "                            },\n",
    "                            \"sizeRange\": [0, 10],\n",
    "                            \"targetColor\": None,\n",
    "                        },\n",
    "                        \"hidden\": False,\n",
    "                        \"textLabel\": [\n",
    "                            {\n",
    "                                \"field\": None,\n",
    "                                \"color\": [255, 255, 255],\n",
    "                                \"size\": 18,\n",
    "                                \"offset\": [0, 0],\n",
    "                                \"anchor\": \"start\",\n",
    "                                \"alignment\": \"center\",\n",
    "                            }\n",
    "                        ],\n",
    "                    },\n",
    "                    \"visualChannels\": {\n",
    "                        \"colorField\": {\"name\": \"Vehicle Id\", \"type\": \"string\"},\n",
    "                        \"colorScale\": \"ordinal\",\n",
    "                        \"sizeField\": None,\n",
    "                        \"sizeScale\": \"linear\",\n",
    "                    },\n",
    "                },\n",
    "                {\n",
    "                    \"id\": \"uhxkucr\",\n",
    "                    \"type\": \"point\",\n",
    "                    \"config\": {\n",
    "                        \"dataId\": \"depots\",\n",
    "                        \"label\": \"Depots\",\n",
    "                        \"color\": [255, 254, 230],\n",
    "                        \"highlightColor\": [252, 242, 26, 255],\n",
    "                        \"columns\": {\"lat\": \"lat\", \"lng\": \"lon\", \"altitude\": None},\n",
    "                        \"isVisible\": True,\n",
    "                        \"visConfig\": {\n",
    "                            \"radius\": 30.4,\n",
    "                            \"fixedRadius\": False,\n",
    "                            \"opacity\": 1,\n",
    "                            \"outline\": True,\n",
    "                            \"thickness\": 3.5,\n",
    "                            \"strokeColor\": [214, 214, 213],\n",
    "                            \"colorRange\": {\n",
    "                                \"name\": \"Global Warming\",\n",
    "                                \"type\": \"sequential\",\n",
    "                                \"category\": \"Uber\",\n",
    "                                \"colors\": [\n",
    "                                    \"#5A1846\",\n",
    "                                    \"#900C3F\",\n",
    "                                    \"#C70039\",\n",
    "                                    \"#E3611C\",\n",
    "                                    \"#F1920E\",\n",
    "                                    \"#FFC300\",\n",
    "                                ],\n",
    "                            },\n",
    "                            \"strokeColorRange\": {\n",
    "                                \"name\": \"Global Warming\",\n",
    "                                \"type\": \"sequential\",\n",
    "                                \"category\": \"Uber\",\n",
    "                                \"colors\": [\n",
    "                                    \"#5A1846\",\n",
    "                                    \"#900C3F\",\n",
    "                                    \"#C70039\",\n",
    "                                    \"#E3611C\",\n",
    "                                    \"#F1920E\",\n",
    "                                    \"#FFC300\",\n",
    "                                ],\n",
    "                            },\n",
    "                            \"radiusRange\": [0, 50],\n",
    "                            \"filled\": False,\n",
    "                        },\n",
    "                        \"hidden\": False,\n",
    "                        \"textLabel\": [\n",
    "                            {\n",
    "                                \"field\": None,\n",
    "                                \"color\": [255, 255, 255],\n",
    "                                \"size\": 18,\n",
    "                                \"offset\": [0, 0],\n",
    "                                \"anchor\": \"start\",\n",
    "                                \"alignment\": \"center\",\n",
    "                            }\n",
    "                        ],\n",
    "                    },\n",
    "                    \"visualChannels\": {\n",
    "                        \"colorField\": None,\n",
    "                        \"colorScale\": \"quantile\",\n",
    "                        \"strokeColorField\": None,\n",
    "                        \"strokeColorScale\": \"quantile\",\n",
    "                        \"sizeField\": None,\n",
    "                        \"sizeScale\": \"linear\",\n",
    "                    },\n",
    "                },\n",
    "                {\n",
    "                    \"id\": \"dvqkcg\",\n",
    "                    \"type\": \"geojson\",\n",
    "                    \"config\": {\n",
    "                        \"dataId\": \"assigned_stops\",\n",
    "                        \"label\": \"Travel path\",\n",
    "                        \"color\": [218, 112, 191],\n",
    "                        \"highlightColor\": [252, 242, 26, 255],\n",
    "                        \"columns\": {\"geojson\": \"travel_path_to_stop\"},\n",
    "                        \"isVisible\": True,\n",
    "                        \"visConfig\": {\n",
    "                            \"opacity\": 0.8,\n",
    "                            \"strokeOpacity\": 0.5,\n",
    "                            \"thickness\": 0.8,\n",
    "                            \"strokeColor\": None,\n",
    "                            \"colorRange\": {\n",
    "                                \"name\": \"Global Warming\",\n",
    "                                \"type\": \"sequential\",\n",
    "                                \"category\": \"Uber\",\n",
    "                                \"colors\": [\n",
    "                                    \"#5A1846\",\n",
    "                                    \"#900C3F\",\n",
    "                                    \"#C70039\",\n",
    "                                    \"#E3611C\",\n",
    "                                    \"#F1920E\",\n",
    "                                    \"#FFC300\",\n",
    "                                ],\n",
    "                            },\n",
    "                            \"strokeColorRange\": {\n",
    "                                \"name\": \"Uber Viz Qualitative 4\",\n",
    "                                \"type\": \"qualitative\",\n",
    "                                \"category\": \"Uber\",\n",
    "                                \"colors\": [\n",
    "                                    \"#12939A\",\n",
    "                                    \"#DDB27C\",\n",
    "                                    \"#88572C\",\n",
    "                                    \"#FF991F\",\n",
    "                                    \"#F15C17\",\n",
    "                                    \"#223F9A\",\n",
    "                                    \"#DA70BF\",\n",
    "                                    \"#125C77\",\n",
    "                                    \"#4DC19C\",\n",
    "                                    \"#776E57\",\n",
    "                                    \"#17B8BE\",\n",
    "                                    \"#F6D18A\",\n",
    "                                    \"#B7885E\",\n",
    "                                    \"#FFCB99\",\n",
    "                                    \"#F89570\",\n",
    "                                    \"#829AE3\",\n",
    "                                    \"#E79FD5\",\n",
    "                                    \"#1E96BE\",\n",
    "                                    \"#89DAC1\",\n",
    "                                    \"#B3AD9E\",\n",
    "                                ],\n",
    "                            },\n",
    "                            \"radius\": 10,\n",
    "                            \"sizeRange\": [0, 10],\n",
    "                            \"radiusRange\": [0, 50],\n",
    "                            \"heightRange\": [0, 500],\n",
    "                            \"elevationScale\": 5,\n",
    "                            \"enableElevationZoomFactor\": True,\n",
    "                            \"stroked\": True,\n",
    "                            \"filled\": False,\n",
    "                            \"enable3d\": False,\n",
    "                            \"wireframe\": False,\n",
    "                        },\n",
    "                        \"hidden\": False,\n",
    "                        \"textLabel\": [\n",
    "                            {\n",
    "                                \"field\": None,\n",
    "                                \"color\": [255, 255, 255],\n",
    "                                \"size\": 18,\n",
    "                                \"offset\": [0, 0],\n",
    "                                \"anchor\": \"start\",\n",
    "                                \"alignment\": \"center\",\n",
    "                            }\n",
    "                        ],\n",
    "                    },\n",
    "                    \"visualChannels\": {\n",
    "                        \"colorField\": None,\n",
    "                        \"colorScale\": \"quantile\",\n",
    "                        \"strokeColorField\": {\"name\": \"Vehicle Id\", \"type\": \"string\"},\n",
    "                        \"strokeColorScale\": \"ordinal\",\n",
    "                        \"sizeField\": None,\n",
    "                        \"sizeScale\": \"linear\",\n",
    "                        \"heightField\": None,\n",
    "                        \"heightScale\": \"linear\",\n",
    "                        \"radiusField\": None,\n",
    "                        \"radiusScale\": \"linear\",\n",
    "                    },\n",
    "                },\n",
    "                {\n",
    "                    \"id\": \"7b21nms\",\n",
    "                    \"type\": \"point\",\n",
    "                    \"config\": {\n",
    "                        \"dataId\": \"unserviced_stops\",\n",
    "                        \"label\": \"Unscheduled stops\",\n",
    "                        \"color\": [187, 0, 0],\n",
    "                        \"highlightColor\": [252, 242, 26, 255],\n",
    "                        \"columns\": {\n",
    "                            \"lat\": \"latitude\",\n",
    "                            \"lng\": \"longitude\",\n",
    "                            \"altitude\": None,\n",
    "                        },\n",
    "                        \"isVisible\": True,\n",
    "                        \"visConfig\": {\n",
    "                            \"radius\": 15,\n",
    "                            \"fixedRadius\": False,\n",
    "                            \"opacity\": 0.8,\n",
    "                            \"outline\": False,\n",
    "                            \"thickness\": 2,\n",
    "                            \"strokeColor\": None,\n",
    "                            \"colorRange\": {\n",
    "                                \"name\": \"Global Warming\",\n",
    "                                \"type\": \"sequential\",\n",
    "                                \"category\": \"Uber\",\n",
    "                                \"colors\": [\n",
    "                                    \"#5A1846\",\n",
    "                                    \"#900C3F\",\n",
    "                                    \"#C70039\",\n",
    "                                    \"#E3611C\",\n",
    "                                    \"#F1920E\",\n",
    "                                    \"#FFC300\",\n",
    "                                ],\n",
    "                            },\n",
    "                            \"strokeColorRange\": {\n",
    "                                \"name\": \"Global Warming\",\n",
    "                                \"type\": \"sequential\",\n",
    "                                \"category\": \"Uber\",\n",
    "                                \"colors\": [\n",
    "                                    \"#5A1846\",\n",
    "                                    \"#900C3F\",\n",
    "                                    \"#C70039\",\n",
    "                                    \"#E3611C\",\n",
    "                                    \"#F1920E\",\n",
    "                                    \"#FFC300\",\n",
    "                                ],\n",
    "                            },\n",
    "                            \"radiusRange\": [0, 50],\n",
    "                            \"filled\": True,\n",
    "                        },\n",
    "                        \"hidden\": False,\n",
    "                        \"textLabel\": [\n",
    "                            {\n",
    "                                \"field\": None,\n",
    "                                \"color\": [255, 255, 255],\n",
    "                                \"size\": 18,\n",
    "                                \"offset\": [0, 0],\n",
    "                                \"anchor\": \"start\",\n",
    "                                \"alignment\": \"center\",\n",
    "                            }\n",
    "                        ],\n",
    "                    },\n",
    "                    \"visualChannels\": {\n",
    "                        \"colorField\": None,\n",
    "                        \"colorScale\": \"quantile\",\n",
    "                        \"strokeColorField\": None,\n",
    "                        \"strokeColorScale\": \"quantile\",\n",
    "                        \"sizeField\": None,\n",
    "                        \"sizeScale\": \"linear\",\n",
    "                    },\n",
    "                },\n",
    "            ],\n",
    "            \"interactionConfig\": {\n",
    "                \"tooltip\": {\n",
    "                    \"fieldsToShow\": {\n",
    "                        \"assigned_stops\": [\n",
    "                            {\"name\": \"Vehicle Id\", \"format\": None},\n",
    "                            {\"name\": \"Vehicle profile\", \"format\": None},\n",
    "                            {\"name\": \"Stop sequence\", \"format\": None},\n",
    "                            {\"name\": \"Site Bk\", \"format\": None},\n",
    "                            {\"name\": \"Customer Bk\", \"format\": None},\n",
    "                            {\"name\": \"Site Name\", \"format\": None},\n",
    "                            {\"name\": \"Site Address\", \"format\": None},\n",
    "                            {\"name\": \"Arrival time\", \"format\": None},\n",
    "                            {\"name\": \"Service start time\", \"format\": None},\n",
    "                            {\"name\": \"Departure time\", \"format\": None},\n",
    "                            {\"name\": \"Waiting time (minutes)\", \"format\": None},\n",
    "                            {\"name\": \"Service duration (minutes)\", \"format\": None},\n",
    "                            {\"name\": \"Product description\", \"format\": None},\n",
    "                            {\"name\": \"Transport Area Code\", \"format\": None},\n",
    "                            {\"name\": \"Time window start\", \"format\": None},\n",
    "                            {\"name\": \"Time window end\", \"format\": None},\n",
    "                            {\"name\": \"Service issues\", \"format\": None},\n",
    "                            {\"name\": \"Activity type\", \"format\": None},\n",
    "                            {\"name\": \"Ticket No\", \"format\": None},\n",
    "                        ],\n",
    "                        \"depots\": [\n",
    "                            {\"name\": \"Depot\", \"format\": None},\n",
    "                            {\"name\": \"Vehicles\", \"format\": None},\n",
    "                        ],\n",
    "                        \"unserviced_stops\": [\n",
    "                            {\"name\": \"Vehicle Id\", \"format\": None},\n",
    "                            {\"name\": \"Vehicle profile\", \"format\": None},\n",
    "                            {\"name\": \"Stop sequence\", \"format\": None},\n",
    "                            {\"name\": \"Site Bk\", \"format\": None},\n",
    "                            {\"name\": \"Customer Bk\", \"format\": None},\n",
    "                            {\"name\": \"Site Name\", \"format\": None},\n",
    "                            {\"name\": \"Site Address\", \"format\": None},\n",
    "                            {\"name\": \"Product description\", \"format\": None},\n",
    "                            {\"name\": \"Transport Area Code\", \"format\": None},\n",
    "                            {\"name\": \"Time window start\", \"format\": None},\n",
    "                            {\"name\": \"Time window end\", \"format\": None},\n",
    "                            {\"name\": \"Activity type\", \"format\": None},\n",
    "                            {\"name\": \"Ticket No\", \"format\": None},\n",
    "                        ],\n",
    "                    },\n",
    "                    \"compareMode\": False,\n",
    "                    \"compareType\": \"absolute\",\n",
    "                    \"enabled\": True,\n",
    "                },\n",
    "                \"brush\": {\"size\": 0.5, \"enabled\": False},\n",
    "                \"geocoder\": {\"enabled\": False},\n",
    "                \"coordinate\": {\"enabled\": False},\n",
    "            },\n",
    "            \"layerBlending\": \"normal\",\n",
    "            \"splitMaps\": [],\n",
    "            \"animationConfig\": {\"currentTime\": None, \"speed\": 1},\n",
    "        },\n",
    "        \"mapState\": {\n",
    "            \"bearing\": 0,\n",
    "            \"dragRotate\": False,\n",
    "            \"latitude\": 51.49872101220479,\n",
    "            \"longitude\": -0.14554385480574963,\n",
    "            \"pitch\": 0,\n",
    "            \"zoom\": 11.81691194273703,\n",
    "            \"isSplit\": False,\n",
    "        },\n",
    "        \"mapStyle\": {\n",
    "            \"styleType\": \"dark\",\n",
    "            \"topLayerGroups\": {},\n",
    "            \"visibleLayerGroups\": {\n",
    "                \"label\": True,\n",
    "                \"road\": True,\n",
    "                \"border\": False,\n",
    "                \"building\": True,\n",
    "                \"water\": True,\n",
    "                \"land\": True,\n",
    "                \"3d building\": False,\n",
    "            },\n",
    "            \"threeDBuildingColor\": [\n",
    "                9.665468314072013,\n",
    "                17.18305478057247,\n",
    "                31.1442867897876,\n",
    "            ],\n",
    "            \"mapStyles\": {},\n",
    "        },\n",
    "    },\n",
    "}\n"
   ]
  },
  {
   "cell_type": "code",
   "execution_count": 218,
   "metadata": {},
   "outputs": [],
   "source": [
    "# config_save=m.config\n",
    "# Point name Stop\n",
    "# Road to arc Stop to road link\n",
    "# Path Travel path\n",
    "# Unscheduled stops"
   ]
  },
  {
   "cell_type": "code",
   "execution_count": 219,
   "metadata": {},
   "outputs": [
    {
     "name": "stdout",
     "output_type": "stream",
     "text": [
      "User Guide: https://docs.kepler.gl/docs/keplergl-jupyter\n"
     ]
    },
    {
     "data": {
      "application/vnd.jupyter.widget-view+json": {
       "model_id": "a817d5c045d44fbd863b56161a08824a",
       "version_major": 2,
       "version_minor": 0
      },
      "text/plain": [
       "KeplerGl(config={'version': 'v1', 'config': {'visState': {'filters': [{'dataId': ['assigned_stops'], 'id': '6m…"
      ]
     },
     "metadata": {},
     "output_type": "display_data"
    }
   ],
   "source": [
    "m = KeplerGl(\n",
    "    data={\n",
    "        \"assigned_stops\": assigned_stops_display.copy().fillna(\" \"),\n",
    "        \"depots\": depots,\n",
    "        \"unserviced_stops\": unserviced_stops_display\n",
    "    },\n",
    "    height=750,\n",
    "    config=config,\n",
    ")\n",
    "m\n"
   ]
  },
  {
   "cell_type": "code",
   "execution_count": 221,
   "metadata": {},
   "outputs": [
    {
     "data": {
      "application/vnd.plotly.v1+json": {
       "config": {
        "plotlyServerURL": "https://plot.ly"
       },
       "data": [
        {
         "alignmentgroup": "True",
         "base": [
          "2023-01-11 09:00:00",
          "2023-01-11 09:13:56",
          "2023-01-11 09:19:13",
          "2023-01-11 09:24:56",
          "2023-01-11 09:30:10",
          "2023-01-11 09:39:25",
          "2023-01-11 09:46:42",
          "2023-01-11 09:54:05",
          "2023-01-11 09:59:05",
          "2023-01-11 10:06:28",
          "2023-01-11 10:15:42",
          "2023-01-11 10:23:04",
          "2023-01-11 10:28:52",
          "2023-01-11 10:34:44",
          "2023-01-11 10:42:21",
          "2023-01-11 10:48:04",
          "2023-01-11 10:55:04",
          "2023-01-11 11:01:26",
          "2023-01-11 11:09:32",
          "2023-01-11 11:15:33",
          "2023-01-11 11:21:43",
          "2023-01-11 11:28:39",
          "2023-01-11 11:36:57",
          "2023-01-11 11:43:38",
          "2023-01-11 11:49:33",
          "2023-01-11 11:57:05",
          "2023-01-11 12:04:12",
          "2023-01-11 12:10:34",
          "2023-01-11 12:18:42",
          "2023-01-11 12:25:10",
          "2023-01-11 12:32:10",
          "2023-01-11 12:42:07",
          "2023-01-11 12:48:57",
          "2023-01-11 12:59:05",
          "2023-01-11 13:06:50",
          "2023-01-11 13:15:04",
          "2023-01-11 13:23:35",
          "2023-01-11 13:33:42",
          "2023-01-11 13:41:08",
          "2023-01-11 13:48:40",
          "2023-01-11 13:54:59",
          "2023-01-11 14:00:57",
          "2023-01-11 14:07:22",
          "2023-01-11 14:13:58",
          "2023-01-11 14:25:01",
          "2023-01-11 14:36:40",
          "2023-01-11 14:42:50",
          "2023-01-11 14:49:10",
          "2023-01-11 14:54:37",
          "2023-01-11 15:04:17",
          "2023-01-11 15:11:08",
          "2023-01-11 15:28:18",
          "2023-01-11 09:00:00",
          "2023-01-11 09:14:17",
          "2023-01-11 09:21:59",
          "2023-01-11 09:28:47",
          "2023-01-11 09:33:55",
          "2023-01-11 09:40:01",
          "2023-01-11 09:45:29",
          "2023-01-11 09:50:53",
          "2023-01-11 09:57:21",
          "2023-01-11 10:03:30",
          "2023-01-11 10:08:30",
          "2023-01-11 10:14:54",
          "2023-01-11 10:22:00",
          "2023-01-11 10:27:37",
          "2023-01-11 10:32:38",
          "2023-01-11 10:38:33",
          "2023-01-11 10:43:59",
          "2023-01-11 10:49:29",
          "2023-01-11 10:55:57",
          "2023-01-11 11:01:17",
          "2023-01-11 11:07:19",
          "2023-01-11 11:12:19",
          "2023-01-11 11:28:03"
         ],
         "customdata": [
          [
           0,
           " ",
           "W01",
           " ",
           " ",
           "2023-01-11 09:00:00"
          ],
          [
           1,
           "Elisabete Sousa Hair Ltd",
           "503061",
           " ELISABETE SOUSA HAIR, 68 ROCHESTER ROW   LONDON WESTMINSTER, SW1P 1JU",
           "Cardboard Tape: 1; Standard bags: 1",
           "2023-01-11 09:13:56"
          ],
          [
           2,
           "Andrew Reeves",
           "249534",
           " 81 ROCHESTER ROW   LONDON , SW1P 1LJ",
           "Standard bags: 1",
           "2023-01-11 09:19:13"
          ],
          [
           3,
           "Sue Ryder Care (Veolia ES UKLtd)",
           "452441",
           " 37 WARWICK WAY   LONDON , SW1V 1QS",
           "Standard bags: 8",
           "2023-01-11 09:24:56"
          ],
          [
           4,
           "cyprus mangal",
           "251538",
           " 45 WARWICK WAY   LONDON , SW1V 1QS",
           "Standard bags: 7",
           "2023-01-11 09:30:10"
          ],
          [
           5,
           "HARD ROCK CAFE",
           "274171",
           " 150 OLD PARK LANE   LONDON , W1K 1QZ",
           "Premium bags: 10",
           "2023-01-11 09:39:25"
          ],
          [
           6,
           "TechNovus Ltd",
           "373791",
           " INTERPARK HOUSE 7 DOWN STREET  LONDON , W1J 7AJ",
           "Recycling bags: 1",
           "2023-01-11 09:46:42"
          ],
          [
           7,
           "Misto",
           "498780",
           " 7 SHEPHERD MARKET   LONDON , W1J 7PE",
           "Recycling bags: 1; Premium bags: 1",
           "2023-01-11 09:54:05"
          ],
          [
           8,
           "MELT ROOM City Ltd/ TAKA",
           "319504",
           " 18 SHEPHERD MARKET MAYFAIR  LONDON , W1J 7QH",
           "Standard bags: 4",
           "2023-01-11 09:59:05"
          ],
          [
           9,
           "PARK CHINOIS LTD.",
           "232047",
           " 33 DOVER STREET   CITY OF WESTMINSTER LONDON, W1S 4NF",
           "Premium bags: 2",
           "2023-01-11 10:06:28"
          ],
          [
           10,
           "Global Family Capital Limited",
           "493295",
           " GLOBAL FAMILY CAPITAL, 1ST FLOOR 24 UPPER BROOK STREET  MAYFAIR LONDON, W1K7QB",
           "Recycling bags: 3; Recycling bags: 3; Standard bags: 3; Standard bags: 3",
           "2023-01-11 10:15:42"
          ],
          [
           11,
           "EKISTICS PROPERTY ADVISORS",
           "107921",
           " 35 GROSVENOR STREET 3RD FLOOR  CITY OF WESTMINSTER LONDON, W1K 4QX",
           "Cardboard Tape: 2; Recycling bags: 4; Standard bags: 4",
           "2023-01-11 10:23:04"
          ],
          [
           12,
           "Unbound",
           "378637",
           " 53-54 GROSVENOR STREET   LONDON , W1K 3HU",
           "Recycling bags: 1; Standard bags: 1",
           "2023-01-11 10:28:52"
          ],
          [
           13,
           "Mayfair PM Ltd",
           "446325",
           " 2 CARLOS PLACE UK  LONDON , W1K 3AL",
           "Recycling bags: 3; Standard bags: 2",
           "2023-01-11 10:34:44"
          ],
          [
           14,
           "Jaks Mayfair",
           "300383",
           " 43 SOUTH MOLTON STREET   LONDON , W1K 5RS",
           "Premium bags: 20",
           "2023-01-11 10:42:21"
          ],
          [
           15,
           "The Body Shop  [SWR]",
           "416289",
           " 374 OXFORD STREET   LONDON , W1C 1JR",
           "Cardboard Tape: 8",
           "2023-01-11 10:48:04"
          ],
          [
           16,
           "Starz Real Estate",
           "461110",
           " 1 RED PLACE   LONDON , W1K 6PL",
           "Standard bags: 5; Recycling bags: 3",
           "2023-01-11 10:55:04"
          ],
          [
           17,
           "DoubleTree by Hilton",
           "347738",
           " 4 BRYANSTON STREET   CITY OF WESTMINSTER LONDON, W1H 7BY",
           "Standard bags: 20",
           "2023-01-11 11:01:26"
          ],
          [
           18,
           "St JOHN Marylebone Ltd",
           "494126",
           " 98 MARYLEBONE LANE   LONDON , W1U 2QA",
           "Recycling bags: 2; Standard bags: 3; Cardboard Tape: 2",
           "2023-01-11 11:09:32"
          ],
          [
           19,
           "LRC LIMITED",
           "189979",
           " 60 WELBECK STREET   CITY OF WESTMINSTER LONDON, W1G 9XB",
           "Recycling bags: 1; Standard bags: 1",
           "2023-01-11 11:15:33"
          ],
          [
           20,
           "COTE BRASSERIE (ST CHISTOPHER PLACE)",
           "81326",
           " 6-8 ST CHRISTOPHER PLACE   CITY OF WESTMINSTER LONDON, W1U 1ND",
           "Standard bags: 16; Cardboard Tape: 2",
           "2023-01-11 11:21:43"
          ],
          [
           21,
           "NANDOS CHICKENLAND LTD [204] 16-18 James Street",
           "214112",
           " 16-18 JAMES STREET   CITY OF WESTMINSTER LONDON, W1U 1EG",
           "Standard bags: 1; Premium bags: 2",
           "2023-01-11 11:28:39"
          ],
          [
           22,
           "prism london ltd",
           "184962",
           " PRISM LONDON LTD 54 CHILTERN STREET  CITY OF WESTMINSTER LONDON, W1U 7QX",
           "Recycling bags: 1; Cardboard Tape: 1; Standard bags: 1",
           "2023-01-11 11:36:57"
          ],
          [
           23,
           "Marylebone Hotel",
           "495068",
           " 119 GLOUCESTER PLACE   LONDON , W1U 6JX",
           "Standard bags: 3",
           "2023-01-11 11:43:38"
          ],
          [
           24,
           "Boxcar Baker & Deli",
           "348002",
           " 7A WYNDHAM PLACE   LONDON , W1H 1PN",
           "Standard bags: 8; Recycling bags: 1; Cardboard Tape: 2",
           "2023-01-11 11:49:33"
          ],
          [
           25,
           "Alulbeyt Ltd",
           "497085",
           " 93 EDGWARE ROAD   LONDON , W2 2HX",
           "Standard bags: 1; Cardboard Tape: 1",
           "2023-01-11 11:57:05"
          ],
          [
           26,
           "Arena Corp Limited/T/A: Thirty Sussex Hotel",
           "335668",
           " 30 SUSSEX GARDENS   LONDON , W2 1UL",
           "Standard bags: 1",
           "2023-01-11 12:04:12"
          ],
          [
           27,
           "Taste of Lahore",
           "503059",
           " 256B EDGWARE ROAD   LONDON , W2 1DS",
           "Cardboard Tape: 2; Standard bags: 2",
           "2023-01-11 12:10:34"
          ],
          [
           28,
           "Groundwork Ltd T/A Westminster Wheels",
           "503074",
           " GROUNDWORK LTD T/A WESTMINSTER WHEELS 41-45 CHURCH STREET  LONDON , NW8 8ES",
           "Cardboard Tape: 1; Standard bags: 1",
           "2023-01-11 12:18:42"
          ],
          [
           29,
           "THE GREEN MAN [998]",
           "80557",
           " 308 EDGWARE ROAD   CITY OF WESTMINSTER LONDON, W2 1DY",
           "Standard bags: 4",
           "2023-01-11 12:25:10"
          ],
          [
           30,
           "Farrells LLP",
           "479548",
           " 9 HATTON STREET   LONDON , NW8 8PL",
           "Standard bags: 2",
           "2023-01-11 12:32:10"
          ],
          [
           31,
           "One Rebel (St John’s Wood) Ltd",
           "491075",
           " ONE REBEL (ST JOHN’S WOOD) LTD 51 ST. JOHNS WOOD HIGH STREET  LONDON , NW8 7NJ",
           "Recycling bags: 2; Cardboard Tape: 1; Standard bags: 2",
           "2023-01-11 12:42:07"
          ],
          [
           32,
           "Soutine",
           "429453",
           " 60 ST. JOHNS WOOD HIGH STREET   LONDON , NW8 7SH",
           "Standard bags: 8; Recycling bags: 2",
           "2023-01-11 12:48:57"
          ],
          [
           33,
           "Thai Fortune Ltd",
           "208680",
           " 103 BOUNDARY ROAD   LONDON , NW8 0RG",
           "Premium bags: 1; Recycling bags: 1",
           "2023-01-11 12:59:05"
          ],
          [
           34,
           "Ozo Fine Food Ltd T/A Kotta Sushi",
           "450882",
           " OZO FINE FOOD LTD T/A KOTTA SUSHI 1 VIOLET HILL,  LONDON , NW8 9EB",
           "Standard bags: 3",
           "2023-01-11 13:06:50"
          ],
          [
           35,
           "RAOULS DELI [358]",
           "81385",
           " 8-10 CLIFTON ROAD   CITY OF WESTMINSTER LONDON, W9 1SS",
           "Premium bags: 2",
           "2023-01-11 13:15:04"
          ],
          [
           36,
           "Halabje Ltd",
           "497578",
           " 370 HARROW ROAD   LONDON , W9 2HU",
           "Standard bags: 2",
           "2023-01-11 13:23:35"
          ],
          [
           37,
           "Walmer Castle",
           "448930",
           " 58 LEDBURY ROAD   LONDON , W11 2AJ",
           "Standard bags: 3; Recycling bags: 3",
           "2023-01-11 13:33:42"
          ],
          [
           38,
           "KHANS RESTAURANT(VEOLIA ES 15 WESTBOURNE [360]",
           "82258",
           " 13-15 WESTBOURNE GROVE   CITY OF WESTMINSTER LONDON, W2 4UA",
           "Compactor bags (TT240): 6",
           "2023-01-11 13:41:08"
          ],
          [
           39,
           "The Cleveland Arms",
           "307205",
           " 28 CHILWORTH STREET THE CLEVELAND ARMS  LONDON , W2 6DT",
           "Standard bags: 2",
           "2023-01-11 13:48:40"
          ],
          [
           40,
           "Solange Ltd",
           "308891",
           " 26 CHILWORTH STREET   LONDON , W2 6DT",
           "Standard bags: 2; Recycling bags: 1",
           "2023-01-11 13:54:59"
          ],
          [
           41,
           "Straits Management(UK)Ltd (TUKDIN)",
           "192297",
           " 41 CRAVEN ROAD   CITY OF WESTMINSTER LONDON, W2 3BX",
           "Standard bags: 6; Cardboard Tape: 2",
           "2023-01-11 14:00:57"
          ],
          [
           42,
           "McDonalds Paddington Square (Veolia ES UKLtd)",
           "465751",
           " 161 PRAED STREET   LONDON , W2 1RL",
           "Compactor bags (TT180): 6",
           "2023-01-11 14:07:22"
          ],
          [
           43,
           "Lolita Kebab Shop",
           "84085",
           " 21 SPRING STREET   LONDON , W2 1JA",
           "Standard bags: 1",
           "2023-01-11 14:13:58"
          ],
          [
           44,
           "Police Attache Office / UAE Embassy",
           "265654",
           " 48 PRINCES GATE   LONDON , SW7 2QA",
           "Premium bags: 2",
           "2023-01-11 14:25:01"
          ],
          [
           45,
           "Dr G O'Keeffe",
           "197537",
           " 26 EATON TERRACE DOCTOR'S SURGERY  CITY OF WESTMINSTER LONDON, SW1W 8TS",
           "Recycling bags: 3",
           "2023-01-11 14:36:40"
          ],
          [
           46,
           "HUNAN",
           "103904",
           " 51 PIMLICO ROAD   CITY OF WESTMINSTER LONDON, SW1W 8NE",
           "Standard bags: 6",
           "2023-01-11 14:42:50"
          ],
          [
           47,
           "Limetree Hotel",
           "104230",
           " 135 EBURY STREET   CITY OF WESTMINSTER LONDON, SW1W 9QU",
           "Premium bags: 4",
           "2023-01-11 14:49:10"
          ],
          [
           48,
           "Chucs Restaurant",
           "385362",
           " CHUCS RESTAURANT 25 ECCLESTON STREET  LONDON , SW1W 9NP",
           "Premium bags: 8; Cardboard Tape: 1",
           "2023-01-11 14:54:37"
          ],
          [
           49,
           "TSN Food and Beverage (Westminster) Ltd.",
           "452941",
           " TSN FOOD AND BEVERAGE (WESTMINSTER) LTD. 36 STRUTTON GROUND  LONDON , SW1P 2HR",
           "Standard bags: 1; Recycling bags: 1",
           "2023-01-11 15:04:17"
          ],
          [
           50,
           "Chile Air Attaché Office",
           "196834",
           " CHILE AIR ATTACHÉ,37-41 OLD QUEEN STREET   WESTMINSTER LONDON, SW1H 9JA",
           "Recycling bags: 1; Waste Transfer Note: 1; Standard bags: 1",
           "2023-01-11 15:11:08"
          ],
          [
           51,
           " ",
           "W01",
           " ",
           " ",
           "2023-01-11 15:28:18"
          ],
          [
           0,
           " ",
           "W02",
           " ",
           " ",
           "2023-01-11 09:00:00"
          ],
          [
           1,
           "THE  GEORGE (SWR)",
           "280244",
           " 213 STRAND   LONDON , WC2R 1AP",
           "Standard bags: 4; Cardboard Tape: 8",
           "2023-01-11 09:14:17"
          ],
          [
           2,
           "FREEMASON ARMS (1ST WASTE MANAGEMENT)",
           "234132",
           " 81-82 LONG ACRE   CITY OF WESTMINSTER LONDON, WC2E 9NG",
           "Standard bags: 10",
           "2023-01-11 09:21:59"
          ],
          [
           3,
           "PIZZA EXPRESS (Veolia CLC ST MARTINS LANE)",
           "331179",
           " 80-81 ST. MARTINS LANE   CITY OF WESTMINSTER LONDON, WC2N 4AA",
           "Standard bags: 8",
           "2023-01-11 09:28:47"
          ],
          [
           4,
           "Mothermash",
           "461441",
           " MOTHERMASH, 4 NEW ROW   LONDON , WC2N 4LH",
           "Premium bags: 1",
           "2023-01-11 09:33:55"
          ],
          [
           5,
           "School of Wok",
           "112373",
           " 61 CHANDOS PLACE   CITY OF WESTMINSTER LONDON, WC2N 4HG",
           "Recycling bags: 2; Cardboard Tape: 1; Premium bags: 2",
           "2023-01-11 09:40:01"
          ],
          [
           6,
           "Rules Restaurant (BAGS)",
           "491358",
           " RULES RESTAURANT 35 MAIDEN LANE  LONDON , WC2E 7LB",
           "Cardboard Tape: 3; Standard bags: 4; Premium bags: 16",
           "2023-01-11 09:45:29"
          ],
          [
           7,
           "Apioil UK Limited",
           "503078",
           " 4TH FLOOR 21 NEW ROW  LONDON , WC2N 4LE",
           "Standard bags: 1; Recycling bags: 1",
           "2023-01-11 09:50:53"
          ],
          [
           8,
           "Slim Chickens..",
           "475845",
           " 1 CAMBRIDGE CIRCUS   LONDON , WC2H 8PA",
           "Premium bags: 16; Cardboard Tape: 8",
           "2023-01-11 09:57:21"
          ],
          [
           9,
           "Prince Charles Cinema (PPB)",
           "449105",
           " PRINCE CHARLES CINEMA 7 LEICESTER PLACE  LONDON PRINCE CHARLES CINEMA, WC2H 7BY",
           "Standard bags: 3",
           "2023-01-11 10:03:30"
          ],
          [
           10,
           "gourmet kitchen",
           "251066",
           " 34 LISLE STREET,   LONDON, , WC2H 7BD",
           "Premium bags: 8; Recycling bags: 10",
           "2023-01-11 10:08:30"
          ],
          [
           11,
           "LEONG LEGENDS RESTAURANT",
           "107785",
           " 39 GERRARD STREET   CITY OF WESTMINSTER LONDON, W1D 5QD",
           "Premium bags: 7",
           "2023-01-11 10:14:54"
          ],
          [
           12,
           "COVENT GARDEN COCKTAIL CLUB",
           "186800",
           " 6-7 GREAT NEWPORT STREET   LONDON , WC2H 7JB",
           "Standard bags: 11",
           "2023-01-11 10:22:00"
          ],
          [
           13,
           "BUSABA EATHAI [128]",
           "81039",
           " 44 FLORAL STREET   CITY OF WESTMINSTER LONDON, WC2E 9DA",
           "Standard bags: 4; Cardboard Tape: 2",
           "2023-01-11 10:27:37"
          ],
          [
           14,
           "We'll Mind Your Own Business Ltd",
           "84627",
           " 39 LONG ACRE   LONDON , WC2E 9LG",
           "Recycling bags: 1; Standard bags: 1",
           "2023-01-11 10:32:38"
          ],
          [
           15,
           "OREE BOULANGERE",
           "375557",
           " 44 WELLINGTON STREET   LONDON , WC2E 7BD",
           "Standard bags: 7",
           "2023-01-11 10:38:33"
          ],
          [
           16,
           "COTE BRASSERIE(TAVISTOCK ST)",
           "81327",
           " 17-21 TAVISTOCK STREET COVENT GARDEN  CITY OF WESTMINSTER LONDON, WC2E 7PA",
           "Standard bags: 20; Cardboard Tape: 3",
           "2023-01-11 10:43:59"
          ],
          [
           17,
           "The Opera Tavern.",
           "451800",
           " 23 CATHERINE STREET   LONDON , WC2B 5JS",
           "Cardboard Tape: 1; Standard bags: 4",
           "2023-01-11 10:49:29"
          ],
          [
           18,
           "Yori Covent Garden",
           "391506",
           " YORI COVENT GARDEN 15 CATHERINE STREET  LONDON , WC2B 5JZ",
           "Standard bags: 3",
           "2023-01-11 10:55:57"
          ],
          [
           19,
           "Vasinikó",
           "480118",
           " VASINIKÓ 7-9 BURLEIGH STREET  LONDON , WC2E 7PW",
           "Standard bags: 2",
           "2023-01-11 11:01:17"
          ],
          [
           20,
           "Route Strand",
           "502684",
           " 146 STRAND   LONDON , WC2R 1JD",
           "Cardboard Tape: 1; Recycling bags: 1; Premium bags: 1",
           "2023-01-11 11:07:19"
          ],
          [
           21,
           "BDO REMIT (UK) LTD",
           "87320",
           " 142 STRAND BRIDGE HOUSE LOWER GROUND FLOOR STRAND CITY OF WESTMINSTER LONDON, WC2R 1HH",
           "Standard bags: 3",
           "2023-01-11 11:12:19"
          ],
          [
           22,
           " ",
           "W02",
           " ",
           " ",
           "2023-01-11 11:28:03"
          ]
         ],
         "hovertemplate": "<b>Stop no.: %{customdata[0]}</b><br>Site: %{customdata[1]}<br>Site Bk: %{customdata[2]}<br>Address: %{customdata[3]}<br>Delivery products: %{customdata[4]}<br>Arrival time: %{customdata[5]}<br>",
         "legendgroup": "Van",
         "marker": {
          "color": "#636efa",
          "pattern": {
           "shape": ""
          }
         },
         "name": "Van",
         "offsetgroup": "Van",
         "orientation": "h",
         "showlegend": true,
         "text": [
          0,
          1,
          2,
          3,
          4,
          5,
          6,
          7,
          8,
          9,
          10,
          11,
          12,
          13,
          14,
          15,
          16,
          17,
          18,
          19,
          20,
          21,
          22,
          23,
          24,
          25,
          26,
          27,
          28,
          29,
          30,
          31,
          32,
          33,
          34,
          35,
          36,
          37,
          38,
          39,
          40,
          41,
          42,
          43,
          44,
          45,
          46,
          47,
          48,
          49,
          50,
          51,
          0,
          1,
          2,
          3,
          4,
          5,
          6,
          7,
          8,
          9,
          10,
          11,
          12,
          13,
          14,
          15,
          16,
          17,
          18,
          19,
          20,
          21,
          22
         ],
         "textposition": "auto",
         "type": "bar",
         "x": [
          0,
          300000,
          300000,
          300000,
          300000,
          300000,
          300000,
          300000,
          300000,
          300000,
          300000,
          300000,
          300000,
          300000,
          300000,
          300000,
          300000,
          300000,
          300000,
          300000,
          300000,
          300000,
          300000,
          300000,
          300000,
          300000,
          300000,
          300000,
          300000,
          300000,
          300000,
          300000,
          300000,
          300000,
          300000,
          300000,
          300000,
          300000,
          300000,
          300000,
          300000,
          300000,
          300000,
          300000,
          300000,
          300000,
          300000,
          300000,
          300000,
          300000,
          300000,
          0,
          0,
          300000,
          300000,
          300000,
          300000,
          300000,
          300000,
          300000,
          300000,
          300000,
          300000,
          300000,
          300000,
          300000,
          300000,
          300000,
          300000,
          300000,
          300000,
          300000,
          300000,
          300000,
          0
         ],
         "xaxis": "x",
         "y": [
          "W01",
          "W01",
          "W01",
          "W01",
          "W01",
          "W01",
          "W01",
          "W01",
          "W01",
          "W01",
          "W01",
          "W01",
          "W01",
          "W01",
          "W01",
          "W01",
          "W01",
          "W01",
          "W01",
          "W01",
          "W01",
          "W01",
          "W01",
          "W01",
          "W01",
          "W01",
          "W01",
          "W01",
          "W01",
          "W01",
          "W01",
          "W01",
          "W01",
          "W01",
          "W01",
          "W01",
          "W01",
          "W01",
          "W01",
          "W01",
          "W01",
          "W01",
          "W01",
          "W01",
          "W01",
          "W01",
          "W01",
          "W01",
          "W01",
          "W01",
          "W01",
          "W01",
          "W02",
          "W02",
          "W02",
          "W02",
          "W02",
          "W02",
          "W02",
          "W02",
          "W02",
          "W02",
          "W02",
          "W02",
          "W02",
          "W02",
          "W02",
          "W02",
          "W02",
          "W02",
          "W02",
          "W02",
          "W02",
          "W02",
          "W02"
         ],
         "yaxis": "y"
        },
        {
         "alignmentgroup": "True",
         "base": [
          "2023-01-11 09:00:00",
          "2023-01-11 09:03:10",
          "2023-01-11 09:10:58",
          "2023-01-11 09:18:50",
          "2023-01-11 09:26:43",
          "2023-01-11 09:33:54",
          "2023-01-11 09:39:03",
          "2023-01-11 09:45:09",
          "2023-01-11 09:53:36",
          "2023-01-11 09:59:36",
          "2023-01-11 10:07:32",
          "2023-01-11 10:14:18",
          "2023-01-11 10:20:20",
          "2023-01-11 10:27:30",
          "2023-01-11 10:32:54",
          "2023-01-11 10:40:01",
          "2023-01-11 10:45:57",
          "2023-01-11 10:51:50",
          "2023-01-11 10:58:15",
          "2023-01-11 11:04:34",
          "2023-01-11 11:11:52",
          "2023-01-11 11:20:49",
          "2023-01-11 11:29:09",
          "2023-01-11 11:34:40",
          "2023-01-11 11:40:36",
          "2023-01-11 11:47:28",
          "2023-01-11 11:54:55",
          "2023-01-11 12:01:05",
          "2023-01-11 12:06:46",
          "2023-01-11 12:12:33",
          "2023-01-11 12:17:58",
          "2023-01-11 12:24:35",
          "2023-01-11 12:29:37",
          "2023-01-11 12:38:09",
          "2023-01-11 12:44:27",
          "2023-01-11 12:51:10",
          "2023-01-11 12:59:52",
          "2023-01-11 13:07:29",
          "2023-01-11 13:15:39",
          "2023-01-11 13:21:54",
          "2023-01-11 13:29:29",
          "2023-01-11 13:34:36",
          "2023-01-11 13:42:32",
          "2023-01-11 13:49:12",
          "2023-01-11 13:54:41",
          "2023-01-11 14:00:40",
          "2023-01-11 14:06:26",
          "2023-01-11 14:11:28",
          "2023-01-11 14:17:22",
          "2023-01-11 14:24:16",
          "2023-01-11 14:30:33",
          "2023-01-11 14:36:30",
          "2023-01-11 14:42:27",
          "2023-01-11 14:47:28",
          "2023-01-11 14:52:56",
          "2023-01-11 14:59:23",
          "2023-01-11 15:05:39",
          "2023-01-11 15:10:43",
          "2023-01-11 15:16:37",
          "2023-01-11 15:26:06",
          "2023-01-11 15:34:08",
          "2023-01-11 15:44:37",
          "2023-01-11 15:52:32",
          "2023-01-11 15:58:46",
          "2023-01-11 16:04:34"
         ],
         "customdata": [
          [
           0,
           " ",
           "W04",
           " ",
           " ",
           "2023-01-11 09:00:00"
          ],
          [
           1,
           "Cube Real Estate",
           "246136",
           " 21A KINGLY STREET CUBE REAL ESTATE  LONDON , W1B 5QA",
           "Standard bags: 2",
           "2023-01-11 09:03:10"
          ],
          [
           2,
           "Wagamama (Veolia CLC) Great Marlborough St",
           "376094",
           " 42 GREAT MARLBOROUGH STREET   LONDON , W1F 7JL",
           "Compactor bags (TT180): 20",
           "2023-01-11 09:10:58"
          ],
          [
           3,
           "AMALFI",
           "445517",
           " 25 ARGYLL STREET   LONDON , W1F 7TU",
           "Standard bags: 4",
           "2023-01-11 09:18:50"
          ],
          [
           4,
           "Flourish Management...",
           "463623",
           " FLOURISH MANAGEMENT... 13 MARKET PLACE  LONDON , W1W 8AH",
           "Standard bags: 1",
           "2023-01-11 09:26:43"
          ],
          [
           5,
           "Lux Artists Limited",
           "503133",
           " 40 GREAT PORTLAND STREET   LONDON , W1W 7LZ",
           "Recycling bags: 2; Standard bags: 2",
           "2023-01-11 09:33:54"
          ],
          [
           6,
           "SALVADOR AND AMANDA [526]",
           "81479",
           " 8 GREAT NEWPORT STREET   LONDON LONDON, W1W 7JZ",
           "Premium bags: 2; Standard bags: 1",
           "2023-01-11 09:39:03"
          ],
          [
           7,
           "ALL BAR ONE (BIFFA WASTE SERVICES)",
           "278062",
           " 289-293 REGENT STREET   LONDON , W1B 2HJ",
           "Premium bags: 2; Cardboard Tape: 5",
           "2023-01-11 09:45:09"
          ],
          [
           8,
           "R M Williams (Mayfair)",
           "492545",
           " 102 NEW BOND STREET   LONDON , W1S 1SS",
           "Cardboard Tape: 2; Recycling bags: 1",
           "2023-01-11 09:53:36"
          ],
          [
           9,
           "Balakona Resturant",
           "503052",
           " 6 DERING STREET   LONDON UK, W1S 1AD",
           "Premium bags: 2",
           "2023-01-11 09:59:36"
          ],
          [
           10,
           "Jetcraft Global Uk Ltd",
           "472162",
           " 2ND FLOOR 14 WIGMORE STREET  LONDON , W1U 2RE",
           "Recycling bags: 2; Standard bags: 2",
           "2023-01-11 10:07:32"
          ],
          [
           11,
           "Royal Brompton and Harefield Hospitals Specialist",
           "442713",
           " 77 WIMPOLE STREET   LONDON , W1G 9RU",
           "Container - For Internal Use Only - Mixed Recyclin: 6",
           "2023-01-11 10:14:18"
          ],
          [
           12,
           "Medicom Management.",
           "103143",
           " 19 WIMPOLE STREET   CITY OF WESTMINSTER LONDON, W1G 8GE",
           "Standard bags: 3",
           "2023-01-11 10:20:20"
          ],
          [
           13,
           "Neeyati Ltd T/A Madesil Pharmacie",
           "220493",
           " 20 MARYLEBONE HIGH STREET  LONDON GREATER LONDON, W1U 4PB",
           "Standard bags: 2; Recycling bags: 3; Cardboard Tape: 2",
           "2023-01-11 10:27:30"
          ],
          [
           14,
           "Sushi Shop",
           "434324",
           " 67-69 WEYMOUTH STREET   LONDON , W1G 8NY",
           "Standard bags: 3",
           "2023-01-11 10:32:54"
          ],
          [
           15,
           "38 Devonshire St. - CONSULTING ROOMS",
           "104649",
           " 38 DEVONSHIRE STREET DENTAL PRACTICE  CITY OF WESTMINSTER LONDON, W1G 6QB",
           "Cardboard Tape: 2; Recycling bags: 2; Standard bags: 2",
           "2023-01-11 10:40:01"
          ],
          [
           16,
           "Medical Practice Marylebone",
           "461699",
           " MEDICAL PRACTICE MARYLEBONE 101 HARLEY STREET  LONDON , W1G 6AH",
           "Standard bags: 2",
           "2023-01-11 10:45:57"
          ],
          [
           17,
           "Harley Street Injectables",
           "476646",
           " FIRST FLOOR 77 HARLEY STREET  LONDON , W1G 8QN",
           "Standard bags: 3",
           "2023-01-11 10:51:50"
          ],
          [
           18,
           "The Harley Street Hospital",
           "414118",
           " 19 HARLEY STREET   LONDON , W1G 9QJ",
           "Premium bags: 3; Cardboard Tape: 2",
           "2023-01-11 10:58:15"
          ],
          [
           19,
           "The Wimpole Clinic..",
           "477483",
           " THE WIMPOLE CLINIC.. 2 HARLEY STREET  LONDON , W1G 9PA",
           "Standard bags: 3; Recycling bags: 3",
           "2023-01-11 11:04:34"
          ],
          [
           20,
           "CA-International Advisors LLP",
           "103410",
           " 1 DUCHESS STREET SUITE 3 4TH FLOOR CITY OF WESTMINSTER LONDON, W1W 6AN",
           "Standard bags: 1",
           "2023-01-11 11:11:52"
          ],
          [
           21,
           "Arthur G Mead",
           "235435",
           " 4TH FLOOR FITZROVIA HOUSE 153-157 CLEVELAND STREET CITY OF WESTMINSTER LONDON, W1T 6QW",
           "Standard bags: 6; Recycling bags: 2",
           "2023-01-11 11:20:49"
          ],
          [
           22,
           "Tank Form LTD",
           "486841",
           " TANK MAGAZINE 91-93 GREAT PORTLAND STREET  LONDON , W1W 7NX",
           "Recycling bags: 1; Standard bags: 1",
           "2023-01-11 11:29:09"
          ],
          [
           23,
           "Joshua Kane",
           "294609",
           " 47B WELBECK STREET   LONDON , W1G 9XA",
           "Recycling bags: 1",
           "2023-01-11 11:34:40"
          ],
          [
           24,
           "The George",
           "462123",
           " THE GEORGE 55 GREAT PORTLAND STREET  LONDON , W1W 7LQ",
           "Cardboard Tape: 8; Standard bags: 12",
           "2023-01-11 11:40:36"
          ],
          [
           25,
           "Homeslice Wells street LTD (Fitzrovia)",
           "370193",
           " 52 WELLS STREET   LONDON , W1T 3PR",
           "Standard bags: 6; Recycling bags: 2",
           "2023-01-11 11:47:28"
          ],
          [
           26,
           "Hireworks",
           "470585",
           " HIREWORKS 1-2 BERNERS STREET  LONDON , W1T 3LA",
           "Standard bags: 5; Recycling bags: 5",
           "2023-01-11 11:54:55"
          ],
          [
           27,
           "Jessops Europe Limited",
           "374323",
           " 145 OXFORD STREET   LONDON , W1D 2JD",
           "Cardboard Tape: 1; Container - For Internal Use Only-  General Waste: 5",
           "2023-01-11 12:01:05"
          ],
          [
           28,
           "ANOTHER TONGUE VOICES LIMITED",
           "112554",
           " ANOTHER TONGUE VOICES LIMITED  10  D'ARBLAY STREET LONDON , W1F 8DS",
           "Standard bags: 1; Recycling bags: 1",
           "2023-01-11 12:06:46"
          ],
          [
           29,
           "Firebird",
           "477234",
           " FIREBIRD 29, POLAND STREET  LONDON , W1F 8QR",
           "Cardboard Tape: 1; Standard bags: 2",
           "2023-01-11 12:12:33"
          ],
          [
           30,
           "The Kati roll comapany",
           "248291",
           " 24 POLAND STREET THE KATI ROLL COMPANY LTD.  LONDON WESTMINISTER, W1F 8QL",
           "Premium bags: 4; Premium bags: 4; Cardboard Tape: 1; Premium bags: 5",
           "2023-01-11 12:17:58"
          ],
          [
           31,
           "Johanna A Molineus",
           "108225",
           " 22 GREAT CHAPEL STREET   CITY OF WESTMINSTER LONDON, W1F 8FR",
           "Recycling bags: 1; Standard bags: 3",
           "2023-01-11 12:24:35"
          ],
          [
           32,
           "CENTREPOINT FINANCE [130]",
           "317191",
           " 25 BERWICK STREET   LONDON , W1F 8RF",
           "Standard bags: 3",
           "2023-01-11 12:29:37"
          ],
          [
           33,
           "RUSSELL AND BROMLEY [569]",
           "81086",
           " 126 REGENT STREET  LONDON LONDON, W1B 5SE",
           "Cardboard Tape: 2; Standard bags: 8",
           "2023-01-11 12:38:09"
          ],
          [
           34,
           "66 North UK Limited",
           "502983",
           " 100 REGENT STREET   LONDON , W1B 5SR",
           "Cardboard Tape: 3; Container - For Internal Use Only - Paper & Card: 2; Container - For Internal Use Only-  General Waste: 2; Container - For Internal Use Only - Mixed Recyclin: 2; Recycling bags: 2; Standard bags: 1; Container - For Internal Use Only-  General Waste: 2; Cardboard Tape: 3; Container - For Internal Use Only - Mixed Recyclin: 2; Standard bags: 1; Recycling bags: 2; Container - For Internal Use Only - Paper & Card: 2; Container - For Internal Use Only - Paper & Card: 2; Container - For Internal Use Only - Paper & Card: 2; Container - For Internal Use Only-  General Waste: 2; Container - For Internal Use Only-  General Waste: 2; Clear bags: 1; Clear bags: 1; Container - For Internal Use Only - Mixed Recyclin: 2; Container - For Internal Use Only - Mixed Recyclin: 2; Recycling bags: 3; Recycling bags: 3; Standard bags: 1; Standard bags: 1; Cardboard Tape: 3; Cardboard Tape: 5",
           "2023-01-11 12:44:27"
          ],
          [
           35,
           "CAFFE CONCERTO [78-81 REGENT ST]",
           "205961",
           " 79-81 REGENT STREET   CITY OF WESTMINSTER LONDON, W1B 4EG",
           "Cardboard Tape: 1; Premium bags: 2",
           "2023-01-11 12:51:10"
          ],
          [
           36,
           "Catimor Ltd T/A Redemption Roasters",
           "500340",
           " CATIMOR LTD T/A REDEMPTION ROASTERS 35 JERMYN STREET  LONDON , SW1Y 6DT",
           "Cardboard Tape: 1; Standard bags: 1",
           "2023-01-11 12:59:52"
          ],
          [
           37,
           "67 Pall Mall Ltd",
           "289027",
           " 67 PALL MALL   CITY OF WESTMINSTER LONDON, SW1Y 5ES",
           "Cardboard Tape: 1; Premium bags: 1; Compactor bags (TT180): 3; Recycling bags: 3",
           "2023-01-11 13:07:29"
          ],
          [
           38,
           "MAVEGA",
           "138520",
           " COLLETTE HOUSE 52-55 PICCADILLY  LONDON , W1J 0DX",
           "Recycling bags: 1; Standard bags: 2",
           "2023-01-11 13:15:39"
          ],
          [
           39,
           "Hanover Green LLP",
           "424274",
           " SACKVILLE HOUSE 40 PICCADILLY  LONDON , W1J 0DR",
           "Standard bags: 3; Recycling bags: 3",
           "2023-01-11 13:21:54"
          ],
          [
           40,
           "Baudoin & Lange",
           "381468",
           " BAUDOIN & LANGE 51 PICCADILLY MAYFAIR LONDON , W1J 0QJ",
           "Cardboard Tape: 2; Standard bags: 2",
           "2023-01-11 13:29:29"
          ],
          [
           41,
           "Sterling Diamond",
           "304078",
           " UNIT 25 BURLINGTON ARCADE  LONDON , W1J 0PT",
           "Recycling bags: 2; Recycling bags: 2",
           "2023-01-11 13:34:36"
          ],
          [
           42,
           "Frith Street Gallery",
           "309142",
           " 17-18 GOLDEN SQUARE   LONDON , W1F 9JJ",
           "Premium bags: 5",
           "2023-01-11 13:42:32"
          ],
          [
           43,
           "Adanami Ltd",
           "117880",
           " ADANAMI LTD / KARAOKE EPOC LONDON 30 BREWER STREET  LONDON , W1F 0SS",
           "Premium bags: 1",
           "2023-01-11 13:49:12"
          ],
          [
           44,
           "Lina Stores",
           "208723",
           " LINA STORES 18 BREWER STREET SOHO LONDON , W1F 0SH",
           "Premium bags: 1; Cardboard Tape: 3",
           "2023-01-11 13:54:41"
          ],
          [
           45,
           "B Bagel",
           "370818",
           " 54 WARDOUR STREET   LONDON , W1D 4JF",
           "Standard bags: 8",
           "2023-01-11 14:00:40"
          ],
          [
           46,
           "101 Media Management",
           "83788",
           " 101 WARDOUR STREET 2ND FLOOR  LONDON , W1F 0UG",
           "Recycling bags: 4; Standard bags: 2",
           "2023-01-11 14:06:26"
          ],
          [
           47,
           "Bone Daddies",
           "85083",
           " 30-31 PETER STREET   CITY OF WESTMINSTER LONDON, W1F 0AR",
           "Standard bags: 8; Cardboard Tape: 2",
           "2023-01-11 14:11:28"
          ],
          [
           48,
           "Inamo",
           "221529",
           " 134-136 WARDOUR STREET   CITY OF WESTMINSTER LONDON, W1F 8ZP",
           "Standard bags: 3",
           "2023-01-11 14:17:22"
          ],
          [
           49,
           "Fabacus",
           "386014",
           " FABACUS 12 SOHO SQUARE 1ST FLOOR LONDON , W1D 3QF",
           "Recycling bags: 1",
           "2023-01-11 14:24:16"
          ],
          [
           50,
           "Experience12",
           "304341",
           " 2ND FLOOR, 15 GREEK STREET,   LONDON , W1D 4DP",
           "Recycling bags: 1; Standard bags: 2",
           "2023-01-11 14:30:33"
          ],
          [
           51,
           "Soholo Ltd T/A Goloso",
           "454728",
           " SOHOLO LTD T/A GOLOSO 55 GREEK STREET  LONDON , W1D 3DT",
           "Standard bags: 2; Cardboard Tape: 1",
           "2023-01-11 14:36:30"
          ],
          [
           52,
           "Salon 64",
           "320761",
           " 14 BATEMAN STREET   LONDON , W1D 3AG",
           "Standard bags: 2; Recycling bags: 1",
           "2023-01-11 14:42:27"
          ],
          [
           53,
           "Regulation",
           "385528",
           " REGULATION 13A  BATEMAN STREET  LONDON , W1D 3AF",
           "Standard bags: 1; Recycling bags: 2",
           "2023-01-11 14:47:28"
          ],
          [
           54,
           "Quo Vadis Soho LTD Co Wendy Edgson",
           "286230",
           " 26-29 DEAN STREET SOHO  CITY OF WESTMINSTER LONDON, W1D 3LL",
           "Premium bags: 6",
           "2023-01-11 14:52:56"
          ],
          [
           55,
           "Vizrt UK Ltd",
           "502321",
           " 37 DEAN STREET 1ST FLOOR  LONDON , W1D 4PT",
           "Cardboard Tape: 1",
           "2023-01-11 14:59:23"
          ],
          [
           56,
           "Mission SA - Humble Chicken",
           "434655",
           " 54 FRITH STREET   LONDON , W1D 4SL",
           "Recycling bags: 1; Premium bags: 2; Cardboard Tape: 1",
           "2023-01-11 15:05:39"
          ],
          [
           57,
           "Hoppers",
           "422310",
           " HOPPERS 49 FRITH STREET  LONDON , W1D 4SG",
           "Standard bags: 2",
           "2023-01-11 15:10:43"
          ],
          [
           58,
           "Agit8 Media",
           "491017",
           " AGIT8 MEDIA 1-3 OLD COMPTON STREET 3RD FLOOR LONDON , W1D 5JB",
           "Recycling bags: 1; Standard bags: 2",
           "2023-01-11 15:16:37"
          ],
          [
           59,
           "Adjuvo Network Ltd",
           "503021",
           " ADJUVO NETWORK LTD 35 KING STREET 5TH FLOOR LONDON , WC2E 8JG",
           "Standard bags: 2; Recycling bags: 2",
           "2023-01-11 15:26:06"
          ],
          [
           60,
           "Retro Bar",
           "266089",
           " RETRO BAR, 2 GEORGE COURT,  CITY OF WESTMINSTER LONDON, WC2N 6HH",
           "Recycling bags: 2",
           "2023-01-11 15:34:08"
          ],
          [
           61,
           "TOM CRIBB (1ST WASTE MANAGEMENT)",
           "234146",
           " 36 PANTON STREET   CITY OF WESTMINSTER LONDON, SW1Y 4EA",
           "Standard bags: 12",
           "2023-01-11 15:44:37"
          ],
          [
           62,
           "The Windmill Soho",
           "458301",
           " THE WINDMILL SOHO 17-19 GREAT WINDMILL STREET  LONDON , W1D 7JZ",
           "Standard bags: 16; Recycling bags: 4",
           "2023-01-11 15:52:32"
          ],
          [
           63,
           "Sunspel Ltd",
           "473655",
           " SUNSPEL LTD 2  SILVER PLACE  LONDON , W1F 0JT",
           "Cardboard Tape: 1; Recycling bags: 2",
           "2023-01-11 15:58:46"
          ],
          [
           64,
           " ",
           "W04",
           " ",
           " ",
           "2023-01-11 16:04:34"
          ]
         ],
         "hovertemplate": "<b>Stop no.: %{customdata[0]}</b><br>Site: %{customdata[1]}<br>Site Bk: %{customdata[2]}<br>Address: %{customdata[3]}<br>Delivery products: %{customdata[4]}<br>Arrival time: %{customdata[5]}<br>",
         "legendgroup": "Bicycle",
         "marker": {
          "color": "#EF553B",
          "pattern": {
           "shape": ""
          }
         },
         "name": "Bicycle",
         "offsetgroup": "Bicycle",
         "orientation": "h",
         "showlegend": true,
         "text": [
          0,
          1,
          2,
          3,
          4,
          5,
          6,
          7,
          8,
          9,
          10,
          11,
          12,
          13,
          14,
          15,
          16,
          17,
          18,
          19,
          20,
          21,
          22,
          23,
          24,
          25,
          26,
          27,
          28,
          29,
          30,
          31,
          32,
          33,
          34,
          35,
          36,
          37,
          38,
          39,
          40,
          41,
          42,
          43,
          44,
          45,
          46,
          47,
          48,
          49,
          50,
          51,
          52,
          53,
          54,
          55,
          56,
          57,
          58,
          59,
          60,
          61,
          62,
          63,
          64
         ],
         "textposition": "auto",
         "type": "bar",
         "x": [
          0,
          300000,
          300000,
          300000,
          300000,
          300000,
          300000,
          300000,
          300000,
          300000,
          300000,
          300000,
          300000,
          300000,
          300000,
          300000,
          300000,
          300000,
          300000,
          300000,
          300000,
          300000,
          300000,
          300000,
          300000,
          300000,
          300000,
          300000,
          300000,
          300000,
          300000,
          300000,
          300000,
          300000,
          300000,
          300000,
          300000,
          300000,
          300000,
          300000,
          300000,
          300000,
          300000,
          300000,
          300000,
          300000,
          300000,
          300000,
          300000,
          300000,
          300000,
          300000,
          300000,
          300000,
          300000,
          300000,
          300000,
          300000,
          300000,
          300000,
          300000,
          300000,
          300000,
          300000,
          0
         ],
         "xaxis": "x",
         "y": [
          "W04",
          "W04",
          "W04",
          "W04",
          "W04",
          "W04",
          "W04",
          "W04",
          "W04",
          "W04",
          "W04",
          "W04",
          "W04",
          "W04",
          "W04",
          "W04",
          "W04",
          "W04",
          "W04",
          "W04",
          "W04",
          "W04",
          "W04",
          "W04",
          "W04",
          "W04",
          "W04",
          "W04",
          "W04",
          "W04",
          "W04",
          "W04",
          "W04",
          "W04",
          "W04",
          "W04",
          "W04",
          "W04",
          "W04",
          "W04",
          "W04",
          "W04",
          "W04",
          "W04",
          "W04",
          "W04",
          "W04",
          "W04",
          "W04",
          "W04",
          "W04",
          "W04",
          "W04",
          "W04",
          "W04",
          "W04",
          "W04",
          "W04",
          "W04",
          "W04",
          "W04",
          "W04",
          "W04",
          "W04",
          "W04"
         ],
         "yaxis": "y"
        }
       ],
       "layout": {
        "barmode": "overlay",
        "legend": {
         "title": {
          "text": "Vehicle profile"
         },
         "tracegroupgap": 0
        },
        "margin": {
         "t": 60
        },
        "template": {
         "data": {
          "bar": [
           {
            "error_x": {
             "color": "#2a3f5f"
            },
            "error_y": {
             "color": "#2a3f5f"
            },
            "marker": {
             "line": {
              "color": "#E5ECF6",
              "width": 0.5
             },
             "pattern": {
              "fillmode": "overlay",
              "size": 10,
              "solidity": 0.2
             }
            },
            "type": "bar"
           }
          ],
          "barpolar": [
           {
            "marker": {
             "line": {
              "color": "#E5ECF6",
              "width": 0.5
             },
             "pattern": {
              "fillmode": "overlay",
              "size": 10,
              "solidity": 0.2
             }
            },
            "type": "barpolar"
           }
          ],
          "carpet": [
           {
            "aaxis": {
             "endlinecolor": "#2a3f5f",
             "gridcolor": "white",
             "linecolor": "white",
             "minorgridcolor": "white",
             "startlinecolor": "#2a3f5f"
            },
            "baxis": {
             "endlinecolor": "#2a3f5f",
             "gridcolor": "white",
             "linecolor": "white",
             "minorgridcolor": "white",
             "startlinecolor": "#2a3f5f"
            },
            "type": "carpet"
           }
          ],
          "choropleth": [
           {
            "colorbar": {
             "outlinewidth": 0,
             "ticks": ""
            },
            "type": "choropleth"
           }
          ],
          "contour": [
           {
            "colorbar": {
             "outlinewidth": 0,
             "ticks": ""
            },
            "colorscale": [
             [
              0,
              "#0d0887"
             ],
             [
              0.1111111111111111,
              "#46039f"
             ],
             [
              0.2222222222222222,
              "#7201a8"
             ],
             [
              0.3333333333333333,
              "#9c179e"
             ],
             [
              0.4444444444444444,
              "#bd3786"
             ],
             [
              0.5555555555555556,
              "#d8576b"
             ],
             [
              0.6666666666666666,
              "#ed7953"
             ],
             [
              0.7777777777777778,
              "#fb9f3a"
             ],
             [
              0.8888888888888888,
              "#fdca26"
             ],
             [
              1,
              "#f0f921"
             ]
            ],
            "type": "contour"
           }
          ],
          "contourcarpet": [
           {
            "colorbar": {
             "outlinewidth": 0,
             "ticks": ""
            },
            "type": "contourcarpet"
           }
          ],
          "heatmap": [
           {
            "colorbar": {
             "outlinewidth": 0,
             "ticks": ""
            },
            "colorscale": [
             [
              0,
              "#0d0887"
             ],
             [
              0.1111111111111111,
              "#46039f"
             ],
             [
              0.2222222222222222,
              "#7201a8"
             ],
             [
              0.3333333333333333,
              "#9c179e"
             ],
             [
              0.4444444444444444,
              "#bd3786"
             ],
             [
              0.5555555555555556,
              "#d8576b"
             ],
             [
              0.6666666666666666,
              "#ed7953"
             ],
             [
              0.7777777777777778,
              "#fb9f3a"
             ],
             [
              0.8888888888888888,
              "#fdca26"
             ],
             [
              1,
              "#f0f921"
             ]
            ],
            "type": "heatmap"
           }
          ],
          "heatmapgl": [
           {
            "colorbar": {
             "outlinewidth": 0,
             "ticks": ""
            },
            "colorscale": [
             [
              0,
              "#0d0887"
             ],
             [
              0.1111111111111111,
              "#46039f"
             ],
             [
              0.2222222222222222,
              "#7201a8"
             ],
             [
              0.3333333333333333,
              "#9c179e"
             ],
             [
              0.4444444444444444,
              "#bd3786"
             ],
             [
              0.5555555555555556,
              "#d8576b"
             ],
             [
              0.6666666666666666,
              "#ed7953"
             ],
             [
              0.7777777777777778,
              "#fb9f3a"
             ],
             [
              0.8888888888888888,
              "#fdca26"
             ],
             [
              1,
              "#f0f921"
             ]
            ],
            "type": "heatmapgl"
           }
          ],
          "histogram": [
           {
            "marker": {
             "pattern": {
              "fillmode": "overlay",
              "size": 10,
              "solidity": 0.2
             }
            },
            "type": "histogram"
           }
          ],
          "histogram2d": [
           {
            "colorbar": {
             "outlinewidth": 0,
             "ticks": ""
            },
            "colorscale": [
             [
              0,
              "#0d0887"
             ],
             [
              0.1111111111111111,
              "#46039f"
             ],
             [
              0.2222222222222222,
              "#7201a8"
             ],
             [
              0.3333333333333333,
              "#9c179e"
             ],
             [
              0.4444444444444444,
              "#bd3786"
             ],
             [
              0.5555555555555556,
              "#d8576b"
             ],
             [
              0.6666666666666666,
              "#ed7953"
             ],
             [
              0.7777777777777778,
              "#fb9f3a"
             ],
             [
              0.8888888888888888,
              "#fdca26"
             ],
             [
              1,
              "#f0f921"
             ]
            ],
            "type": "histogram2d"
           }
          ],
          "histogram2dcontour": [
           {
            "colorbar": {
             "outlinewidth": 0,
             "ticks": ""
            },
            "colorscale": [
             [
              0,
              "#0d0887"
             ],
             [
              0.1111111111111111,
              "#46039f"
             ],
             [
              0.2222222222222222,
              "#7201a8"
             ],
             [
              0.3333333333333333,
              "#9c179e"
             ],
             [
              0.4444444444444444,
              "#bd3786"
             ],
             [
              0.5555555555555556,
              "#d8576b"
             ],
             [
              0.6666666666666666,
              "#ed7953"
             ],
             [
              0.7777777777777778,
              "#fb9f3a"
             ],
             [
              0.8888888888888888,
              "#fdca26"
             ],
             [
              1,
              "#f0f921"
             ]
            ],
            "type": "histogram2dcontour"
           }
          ],
          "mesh3d": [
           {
            "colorbar": {
             "outlinewidth": 0,
             "ticks": ""
            },
            "type": "mesh3d"
           }
          ],
          "parcoords": [
           {
            "line": {
             "colorbar": {
              "outlinewidth": 0,
              "ticks": ""
             }
            },
            "type": "parcoords"
           }
          ],
          "pie": [
           {
            "automargin": true,
            "type": "pie"
           }
          ],
          "scatter": [
           {
            "fillpattern": {
             "fillmode": "overlay",
             "size": 10,
             "solidity": 0.2
            },
            "type": "scatter"
           }
          ],
          "scatter3d": [
           {
            "line": {
             "colorbar": {
              "outlinewidth": 0,
              "ticks": ""
             }
            },
            "marker": {
             "colorbar": {
              "outlinewidth": 0,
              "ticks": ""
             }
            },
            "type": "scatter3d"
           }
          ],
          "scattercarpet": [
           {
            "marker": {
             "colorbar": {
              "outlinewidth": 0,
              "ticks": ""
             }
            },
            "type": "scattercarpet"
           }
          ],
          "scattergeo": [
           {
            "marker": {
             "colorbar": {
              "outlinewidth": 0,
              "ticks": ""
             }
            },
            "type": "scattergeo"
           }
          ],
          "scattergl": [
           {
            "marker": {
             "colorbar": {
              "outlinewidth": 0,
              "ticks": ""
             }
            },
            "type": "scattergl"
           }
          ],
          "scattermapbox": [
           {
            "marker": {
             "colorbar": {
              "outlinewidth": 0,
              "ticks": ""
             }
            },
            "type": "scattermapbox"
           }
          ],
          "scatterpolar": [
           {
            "marker": {
             "colorbar": {
              "outlinewidth": 0,
              "ticks": ""
             }
            },
            "type": "scatterpolar"
           }
          ],
          "scatterpolargl": [
           {
            "marker": {
             "colorbar": {
              "outlinewidth": 0,
              "ticks": ""
             }
            },
            "type": "scatterpolargl"
           }
          ],
          "scatterternary": [
           {
            "marker": {
             "colorbar": {
              "outlinewidth": 0,
              "ticks": ""
             }
            },
            "type": "scatterternary"
           }
          ],
          "surface": [
           {
            "colorbar": {
             "outlinewidth": 0,
             "ticks": ""
            },
            "colorscale": [
             [
              0,
              "#0d0887"
             ],
             [
              0.1111111111111111,
              "#46039f"
             ],
             [
              0.2222222222222222,
              "#7201a8"
             ],
             [
              0.3333333333333333,
              "#9c179e"
             ],
             [
              0.4444444444444444,
              "#bd3786"
             ],
             [
              0.5555555555555556,
              "#d8576b"
             ],
             [
              0.6666666666666666,
              "#ed7953"
             ],
             [
              0.7777777777777778,
              "#fb9f3a"
             ],
             [
              0.8888888888888888,
              "#fdca26"
             ],
             [
              1,
              "#f0f921"
             ]
            ],
            "type": "surface"
           }
          ],
          "table": [
           {
            "cells": {
             "fill": {
              "color": "#EBF0F8"
             },
             "line": {
              "color": "white"
             }
            },
            "header": {
             "fill": {
              "color": "#C8D4E3"
             },
             "line": {
              "color": "white"
             }
            },
            "type": "table"
           }
          ]
         },
         "layout": {
          "annotationdefaults": {
           "arrowcolor": "#2a3f5f",
           "arrowhead": 0,
           "arrowwidth": 1
          },
          "autotypenumbers": "strict",
          "coloraxis": {
           "colorbar": {
            "outlinewidth": 0,
            "ticks": ""
           }
          },
          "colorscale": {
           "diverging": [
            [
             0,
             "#8e0152"
            ],
            [
             0.1,
             "#c51b7d"
            ],
            [
             0.2,
             "#de77ae"
            ],
            [
             0.3,
             "#f1b6da"
            ],
            [
             0.4,
             "#fde0ef"
            ],
            [
             0.5,
             "#f7f7f7"
            ],
            [
             0.6,
             "#e6f5d0"
            ],
            [
             0.7,
             "#b8e186"
            ],
            [
             0.8,
             "#7fbc41"
            ],
            [
             0.9,
             "#4d9221"
            ],
            [
             1,
             "#276419"
            ]
           ],
           "sequential": [
            [
             0,
             "#0d0887"
            ],
            [
             0.1111111111111111,
             "#46039f"
            ],
            [
             0.2222222222222222,
             "#7201a8"
            ],
            [
             0.3333333333333333,
             "#9c179e"
            ],
            [
             0.4444444444444444,
             "#bd3786"
            ],
            [
             0.5555555555555556,
             "#d8576b"
            ],
            [
             0.6666666666666666,
             "#ed7953"
            ],
            [
             0.7777777777777778,
             "#fb9f3a"
            ],
            [
             0.8888888888888888,
             "#fdca26"
            ],
            [
             1,
             "#f0f921"
            ]
           ],
           "sequentialminus": [
            [
             0,
             "#0d0887"
            ],
            [
             0.1111111111111111,
             "#46039f"
            ],
            [
             0.2222222222222222,
             "#7201a8"
            ],
            [
             0.3333333333333333,
             "#9c179e"
            ],
            [
             0.4444444444444444,
             "#bd3786"
            ],
            [
             0.5555555555555556,
             "#d8576b"
            ],
            [
             0.6666666666666666,
             "#ed7953"
            ],
            [
             0.7777777777777778,
             "#fb9f3a"
            ],
            [
             0.8888888888888888,
             "#fdca26"
            ],
            [
             1,
             "#f0f921"
            ]
           ]
          },
          "colorway": [
           "#636efa",
           "#EF553B",
           "#00cc96",
           "#ab63fa",
           "#FFA15A",
           "#19d3f3",
           "#FF6692",
           "#B6E880",
           "#FF97FF",
           "#FECB52"
          ],
          "font": {
           "color": "#2a3f5f"
          },
          "geo": {
           "bgcolor": "white",
           "lakecolor": "white",
           "landcolor": "#E5ECF6",
           "showlakes": true,
           "showland": true,
           "subunitcolor": "white"
          },
          "hoverlabel": {
           "align": "left"
          },
          "hovermode": "closest",
          "mapbox": {
           "style": "light"
          },
          "paper_bgcolor": "white",
          "plot_bgcolor": "#E5ECF6",
          "polar": {
           "angularaxis": {
            "gridcolor": "white",
            "linecolor": "white",
            "ticks": ""
           },
           "bgcolor": "#E5ECF6",
           "radialaxis": {
            "gridcolor": "white",
            "linecolor": "white",
            "ticks": ""
           }
          },
          "scene": {
           "xaxis": {
            "backgroundcolor": "#E5ECF6",
            "gridcolor": "white",
            "gridwidth": 2,
            "linecolor": "white",
            "showbackground": true,
            "ticks": "",
            "zerolinecolor": "white"
           },
           "yaxis": {
            "backgroundcolor": "#E5ECF6",
            "gridcolor": "white",
            "gridwidth": 2,
            "linecolor": "white",
            "showbackground": true,
            "ticks": "",
            "zerolinecolor": "white"
           },
           "zaxis": {
            "backgroundcolor": "#E5ECF6",
            "gridcolor": "white",
            "gridwidth": 2,
            "linecolor": "white",
            "showbackground": true,
            "ticks": "",
            "zerolinecolor": "white"
           }
          },
          "shapedefaults": {
           "line": {
            "color": "#2a3f5f"
           }
          },
          "ternary": {
           "aaxis": {
            "gridcolor": "white",
            "linecolor": "white",
            "ticks": ""
           },
           "baxis": {
            "gridcolor": "white",
            "linecolor": "white",
            "ticks": ""
           },
           "bgcolor": "#E5ECF6",
           "caxis": {
            "gridcolor": "white",
            "linecolor": "white",
            "ticks": ""
           }
          },
          "title": {
           "x": 0.05
          },
          "xaxis": {
           "automargin": true,
           "gridcolor": "white",
           "linecolor": "white",
           "ticks": "",
           "title": {
            "standoff": 15
           },
           "zerolinecolor": "white",
           "zerolinewidth": 2
          },
          "yaxis": {
           "automargin": true,
           "gridcolor": "white",
           "linecolor": "white",
           "ticks": "",
           "title": {
            "standoff": 15
           },
           "zerolinecolor": "white",
           "zerolinewidth": 2
          }
         }
        },
        "xaxis": {
         "anchor": "y",
         "domain": [
          0,
          1
         ],
         "type": "date"
        },
        "yaxis": {
         "anchor": "x",
         "domain": [
          0,
          1
         ],
         "title": {
          "text": "Vehicle Id"
         }
        }
       }
      }
     },
     "metadata": {},
     "output_type": "display_data"
    }
   ],
   "source": [
    "import plotly.express as px\n",
    "import datetime \n",
    "#assigned_stops_gant = assigned_stops_display.assign(x_start = assigned_stops_display[\"Arrival time\"])\n",
    "def generate_timeline(df):\n",
    "\n",
    "    hovertemplate1 = (\n",
    "        \"<b>Stop no.: %{customdata[0]}</b><br>\"\n",
    "        + \"Site: %{customdata[1]}<br>\"\n",
    "        + \"Site Bk: %{customdata[2]}<br>\"\n",
    "        + \"Address: %{customdata[3]}<br>\"\n",
    "        + \"Delivery products: %{customdata[4]}<br>\"\n",
    "        + \"Arrival time: %{customdata[5]}<br>\"\n",
    "    )\n",
    "\n",
    "    custom_data = [\n",
    "        \"Stop sequence\",\n",
    "        \"Site Name\",\n",
    "        \"Site Bk\",\n",
    "        \"Site Address\",\n",
    "        \"Product description\",\n",
    "        \"Arrival time\",\n",
    "    ]\n",
    "\n",
    "    assigned_stops_route_paths_plot = df.copy()\n",
    "    assigned_stops_route_paths_plot[\"Arrival time\"] = datetime.datetime.now().strftime(\"%Y-%m-%d\") + \" \" + assigned_stops_route_paths_plot[\"Arrival time\"]\n",
    "    assigned_stops_route_paths_plot[\"Departure time\"] = datetime.datetime.now().strftime(\"%Y-%m-%d\") + \" \" + assigned_stops_route_paths_plot[\"Departure time\"]\n",
    "    fig = px.timeline(\n",
    "        assigned_stops_route_paths_plot,\n",
    "        x_start=\"Arrival time\",\n",
    "        x_end=\"Departure time\",\n",
    "        y=\"Vehicle Id\",\n",
    "        color=\"Vehicle profile\",\n",
    "        text=\"Stop sequence\",\n",
    "        custom_data=custom_data,\n",
    "    )\n",
    "    _ = fig.update_traces(hovertemplate=hovertemplate1)\n",
    "    return fig\n",
    "\n",
    "generate_timeline(assigned_stops_display)"
   ]
  }
 ],
 "metadata": {
  "kernelspec": {
   "display_name": ".venv",
   "language": "python",
   "name": "python3"
  },
  "language_info": {
   "codemirror_mode": {
    "name": "ipython",
    "version": 3
   },
   "file_extension": ".py",
   "mimetype": "text/x-python",
   "name": "python",
   "nbconvert_exporter": "python",
   "pygments_lexer": "ipython3",
   "version": "3.10.8 (main, Dec  5 2022, 19:42:10) [Clang 14.0.0 (clang-1400.0.29.202)]"
  },
  "vscode": {
   "interpreter": {
    "hash": "89fd0eacb724d37dde70dcc8e3c59c1e2f0e30ed8a6f5a6b9c7de3c8bfd8de8f"
   }
  }
 },
 "nbformat": 4,
 "nbformat_minor": 4
}
