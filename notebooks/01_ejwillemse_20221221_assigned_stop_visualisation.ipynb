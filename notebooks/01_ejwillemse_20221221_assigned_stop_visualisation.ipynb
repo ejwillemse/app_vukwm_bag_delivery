{
 "cells": [
  {
   "cell_type": "code",
   "execution_count": 7,
   "metadata": {},
   "outputs": [],
   "source": [
    "import os\n",
    "import logging\n",
    "working_directory = os.getcwd() + \"/\"\n",
    "project_name = \"app_vukwm_bag_delivery/\"\n",
    "if project_name in working_directory:\n",
    "    base_directory = working_directory[:working_directory.find(project_name) + len(project_name)]\n",
    "    os.chdir(base_directory)\n",
    "    working_directory = os.getcwd() + \"/\"\n",
    "    logging.info(f\"Working directory changed to {working_directory}\")\n",
    "else:\n",
    "    logging.warning(f\"Project directory {project_name} not found in {working_directory}\")"
   ]
  },
  {
   "cell_type": "code",
   "execution_count": 8,
   "metadata": {},
   "outputs": [
    {
     "name": "stderr",
     "output_type": "stream",
     "text": [
      "/Users/ejwillemse/dev/waste_labs_dev/app_vukwm_bag_delivery/.venv/lib/python3.10/site-packages/fuzzywuzzy/fuzz.py:11: UserWarning: Using slow pure-python SequenceMatcher. Install python-Levenshtein to remove this warning\n",
      "  warnings.warn('Using slow pure-python SequenceMatcher. Install python-Levenshtein to remove this warning')\n"
     ]
    }
   ],
   "source": [
    "from GPSOdyssey import Kepler\n",
    "from keplergl import KeplerGl\n",
    "import app_vukwm_bag_delivery.aggregates as aggregates\n",
    "import app_vukwm_bag_delivery.osrm_get_routes as osrm_get_routes\n",
    "import pandas as pd\n",
    "import numpy as np"
   ]
  },
  {
   "cell_type": "code",
   "execution_count": 9,
   "metadata": {},
   "outputs": [
    {
     "data": {
      "text/html": [
       "<div>\n",
       "<style scoped>\n",
       "    .dataframe tbody tr th:only-of-type {\n",
       "        vertical-align: middle;\n",
       "    }\n",
       "\n",
       "    .dataframe tbody tr th {\n",
       "        vertical-align: top;\n",
       "    }\n",
       "\n",
       "    .dataframe thead th {\n",
       "        text-align: right;\n",
       "    }\n",
       "</style>\n",
       "<table border=\"1\" class=\"dataframe\">\n",
       "  <thead>\n",
       "    <tr style=\"text-align: right;\">\n",
       "      <th></th>\n",
       "      <th>Ticket No</th>\n",
       "      <th>Customer Bk</th>\n",
       "      <th>Site Bk</th>\n",
       "      <th>Site Name</th>\n",
       "      <th>Transport Area Code</th>\n",
       "      <th>Product Name</th>\n",
       "      <th>Quantity</th>\n",
       "      <th>Created Date</th>\n",
       "      <th>Required Date</th>\n",
       "      <th>Notes</th>\n",
       "      <th>...</th>\n",
       "      <th>Site Address</th>\n",
       "      <th>collection_date</th>\n",
       "      <th>tansport_area_num</th>\n",
       "      <th>lat</th>\n",
       "      <th>lon</th>\n",
       "      <th>Transport area</th>\n",
       "      <th>Product description</th>\n",
       "      <th>Total boxes</th>\n",
       "      <th>route_sequence</th>\n",
       "      <th>Vehicle id</th>\n",
       "    </tr>\n",
       "  </thead>\n",
       "  <tbody>\n",
       "    <tr>\n",
       "      <th>0</th>\n",
       "      <td>NaN</td>\n",
       "      <td>NaN</td>\n",
       "      <td>NaN</td>\n",
       "      <td>Soho</td>\n",
       "      <td>NaN</td>\n",
       "      <td>NaN</td>\n",
       "      <td>NaN</td>\n",
       "      <td>NaN</td>\n",
       "      <td>NaN</td>\n",
       "      <td>NaN</td>\n",
       "      <td>...</td>\n",
       "      <td>NaN</td>\n",
       "      <td>NaN</td>\n",
       "      <td>NaN</td>\n",
       "      <td>51.513586</td>\n",
       "      <td>-0.137482</td>\n",
       "      <td>NaN</td>\n",
       "      <td>NaN</td>\n",
       "      <td>NaN</td>\n",
       "      <td>0</td>\n",
       "      <td>W04</td>\n",
       "    </tr>\n",
       "    <tr>\n",
       "      <th>1</th>\n",
       "      <td>WCSR223461052; WCSR223461056</td>\n",
       "      <td>44921.0</td>\n",
       "      <td>108219.0</td>\n",
       "      <td>Copper Consultancy</td>\n",
       "      <td>2R</td>\n",
       "      <td>Standard bags; Recycling bags</td>\n",
       "      <td>2; 2</td>\n",
       "      <td>2022-12-19</td>\n",
       "      <td>2022-12-20</td>\n",
       "      <td>NaN</td>\n",
       "      <td>...</td>\n",
       "      <td>COPPER CONSULTANCY, 3RD FLOOR 49 CARNABY STRE...</td>\n",
       "      <td>2022-12-20</td>\n",
       "      <td>2.0</td>\n",
       "      <td>51.512800</td>\n",
       "      <td>-0.138500</td>\n",
       "      <td># 02</td>\n",
       "      <td>Standard bags: 2\\nRecycling bags: 2</td>\n",
       "      <td>4.0</td>\n",
       "      <td>1</td>\n",
       "      <td>W04</td>\n",
       "    </tr>\n",
       "    <tr>\n",
       "      <th>2</th>\n",
       "      <td>WCBS223489205</td>\n",
       "      <td>203636.0</td>\n",
       "      <td>498194.0</td>\n",
       "      <td>Rixo LTD</td>\n",
       "      <td>2R</td>\n",
       "      <td>Cardboard Tape</td>\n",
       "      <td>1</td>\n",
       "      <td>2022-12-19</td>\n",
       "      <td>2022-12-20</td>\n",
       "      <td>NaN</td>\n",
       "      <td>...</td>\n",
       "      <td>RIXO LTD 44 CARNABY STREET  LONDON , W1F 9PS</td>\n",
       "      <td>2022-12-20</td>\n",
       "      <td>2.0</td>\n",
       "      <td>51.512800</td>\n",
       "      <td>-0.138700</td>\n",
       "      <td># 02</td>\n",
       "      <td>Cardboard Tape: 1</td>\n",
       "      <td>1.0</td>\n",
       "      <td>2</td>\n",
       "      <td>W04</td>\n",
       "    </tr>\n",
       "    <tr>\n",
       "      <th>3</th>\n",
       "      <td>WCSR223459263</td>\n",
       "      <td>147965.0</td>\n",
       "      <td>331027.0</td>\n",
       "      <td>Z Hotels  ZHT Ltd</td>\n",
       "      <td>2R</td>\n",
       "      <td>Standard bags</td>\n",
       "      <td>10</td>\n",
       "      <td>2022-12-19</td>\n",
       "      <td>2022-12-20</td>\n",
       "      <td>NaN</td>\n",
       "      <td>...</td>\n",
       "      <td>52 POLAND STREET   LONDON , W1F 7NQ</td>\n",
       "      <td>2022-12-20</td>\n",
       "      <td>2.0</td>\n",
       "      <td>51.514200</td>\n",
       "      <td>-0.137000</td>\n",
       "      <td># 02</td>\n",
       "      <td>Standard bags: 10</td>\n",
       "      <td>10.0</td>\n",
       "      <td>3</td>\n",
       "      <td>W04</td>\n",
       "    </tr>\n",
       "    <tr>\n",
       "      <th>4</th>\n",
       "      <td>WCBS223537974</td>\n",
       "      <td>204679.0</td>\n",
       "      <td>502342.0</td>\n",
       "      <td>The Milton Group</td>\n",
       "      <td>2R</td>\n",
       "      <td>Standard bags</td>\n",
       "      <td>2</td>\n",
       "      <td>2022-12-19</td>\n",
       "      <td>2022-12-20</td>\n",
       "      <td>NaN</td>\n",
       "      <td>...</td>\n",
       "      <td>NOLAND HOUSE 12-13 POLAND STREET  LONDON , W1...</td>\n",
       "      <td>2022-12-20</td>\n",
       "      <td>2.0</td>\n",
       "      <td>51.514642</td>\n",
       "      <td>-0.136867</td>\n",
       "      <td># 02</td>\n",
       "      <td>Standard bags: 2</td>\n",
       "      <td>2.0</td>\n",
       "      <td>4</td>\n",
       "      <td>W04</td>\n",
       "    </tr>\n",
       "    <tr>\n",
       "      <th>...</th>\n",
       "      <td>...</td>\n",
       "      <td>...</td>\n",
       "      <td>...</td>\n",
       "      <td>...</td>\n",
       "      <td>...</td>\n",
       "      <td>...</td>\n",
       "      <td>...</td>\n",
       "      <td>...</td>\n",
       "      <td>...</td>\n",
       "      <td>...</td>\n",
       "      <td>...</td>\n",
       "      <td>...</td>\n",
       "      <td>...</td>\n",
       "      <td>...</td>\n",
       "      <td>...</td>\n",
       "      <td>...</td>\n",
       "      <td>...</td>\n",
       "      <td>...</td>\n",
       "      <td>...</td>\n",
       "      <td>...</td>\n",
       "      <td>...</td>\n",
       "    </tr>\n",
       "    <tr>\n",
       "      <th>119</th>\n",
       "      <td>WCSR223490643</td>\n",
       "      <td>30382.0</td>\n",
       "      <td>278071.0</td>\n",
       "      <td>CAMBRIDGE (BIFFA WASTE SERVICES)</td>\n",
       "      <td>1S</td>\n",
       "      <td>Standard bags</td>\n",
       "      <td>8</td>\n",
       "      <td>2022-12-19</td>\n",
       "      <td>2022-12-20</td>\n",
       "      <td>NaN</td>\n",
       "      <td>...</td>\n",
       "      <td>93 CHARING CROSS ROAD   LONDON , WC2H 0DP</td>\n",
       "      <td>2022-12-20</td>\n",
       "      <td>1.0</td>\n",
       "      <td>51.513600</td>\n",
       "      <td>-0.129600</td>\n",
       "      <td># 01</td>\n",
       "      <td>Standard bags: 8</td>\n",
       "      <td>8.0</td>\n",
       "      <td>22</td>\n",
       "      <td>W05</td>\n",
       "    </tr>\n",
       "    <tr>\n",
       "      <th>120</th>\n",
       "      <td>WCSR223514230; WCSR223514263</td>\n",
       "      <td>204472.0</td>\n",
       "      <td>501721.0</td>\n",
       "      <td>Donutelier by Roladin</td>\n",
       "      <td>1S</td>\n",
       "      <td>Standard bags; Recycling bags</td>\n",
       "      <td>6; 4</td>\n",
       "      <td>2022-12-19</td>\n",
       "      <td>2022-12-20</td>\n",
       "      <td>NaN</td>\n",
       "      <td>...</td>\n",
       "      <td>48-50 CHARING CROSS ROAD   LONDON , WC2H 0BB</td>\n",
       "      <td>2022-12-20</td>\n",
       "      <td>1.0</td>\n",
       "      <td>51.512200</td>\n",
       "      <td>-0.128300</td>\n",
       "      <td># 01</td>\n",
       "      <td>Standard bags: 6\\nRecycling bags: 4</td>\n",
       "      <td>10.0</td>\n",
       "      <td>23</td>\n",
       "      <td>W05</td>\n",
       "    </tr>\n",
       "    <tr>\n",
       "      <th>121</th>\n",
       "      <td>WCSR223492026</td>\n",
       "      <td>34006.0</td>\n",
       "      <td>106146.0</td>\n",
       "      <td>ROUND TABLE [SWR]</td>\n",
       "      <td>1C</td>\n",
       "      <td>Standard bags</td>\n",
       "      <td>4</td>\n",
       "      <td>2022-12-19</td>\n",
       "      <td>2022-12-20</td>\n",
       "      <td>NaN</td>\n",
       "      <td>...</td>\n",
       "      <td>26-27 ST. MARTIN'S COURT   CITY OF WESTMINSTE...</td>\n",
       "      <td>2022-12-20</td>\n",
       "      <td>1.0</td>\n",
       "      <td>51.510885</td>\n",
       "      <td>-0.127610</td>\n",
       "      <td># 01</td>\n",
       "      <td>Standard bags: 4</td>\n",
       "      <td>4.0</td>\n",
       "      <td>24</td>\n",
       "      <td>W05</td>\n",
       "    </tr>\n",
       "    <tr>\n",
       "      <th>122</th>\n",
       "      <td>WCBS223261609; WCBS223261608</td>\n",
       "      <td>197025.0</td>\n",
       "      <td>474202.0</td>\n",
       "      <td>Empresa London Limited</td>\n",
       "      <td>1T</td>\n",
       "      <td>Recycling bags; Standard bags</td>\n",
       "      <td>2; 1</td>\n",
       "      <td>2022-12-15</td>\n",
       "      <td>2022-12-16</td>\n",
       "      <td>NaN</td>\n",
       "      <td>...</td>\n",
       "      <td>EMPRESA LONDON LTD., 25 HENRIETTA STREET   LO...</td>\n",
       "      <td>2022-12-16</td>\n",
       "      <td>1.0</td>\n",
       "      <td>51.510800</td>\n",
       "      <td>-0.124300</td>\n",
       "      <td># 01</td>\n",
       "      <td>Recycling bags: 2\\nStandard bags: 1</td>\n",
       "      <td>3.0</td>\n",
       "      <td>25</td>\n",
       "      <td>W05</td>\n",
       "    </tr>\n",
       "    <tr>\n",
       "      <th>123</th>\n",
       "      <td>NaN</td>\n",
       "      <td>NaN</td>\n",
       "      <td>NaN</td>\n",
       "      <td>Mandela Way</td>\n",
       "      <td>NaN</td>\n",
       "      <td>NaN</td>\n",
       "      <td>NaN</td>\n",
       "      <td>NaN</td>\n",
       "      <td>NaN</td>\n",
       "      <td>NaN</td>\n",
       "      <td>...</td>\n",
       "      <td>NaN</td>\n",
       "      <td>NaN</td>\n",
       "      <td>NaN</td>\n",
       "      <td>51.491754</td>\n",
       "      <td>-0.079627</td>\n",
       "      <td>NaN</td>\n",
       "      <td>NaN</td>\n",
       "      <td>NaN</td>\n",
       "      <td>26</td>\n",
       "      <td>W05</td>\n",
       "    </tr>\n",
       "  </tbody>\n",
       "</table>\n",
       "<p>124 rows × 34 columns</p>\n",
       "</div>"
      ],
      "text/plain": [
       "                        Ticket No  Customer Bk   Site Bk  \\\n",
       "0                             NaN          NaN       NaN   \n",
       "1    WCSR223461052; WCSR223461056      44921.0  108219.0   \n",
       "2                   WCBS223489205     203636.0  498194.0   \n",
       "3                   WCSR223459263     147965.0  331027.0   \n",
       "4                   WCBS223537974     204679.0  502342.0   \n",
       "..                            ...          ...       ...   \n",
       "119                 WCSR223490643      30382.0  278071.0   \n",
       "120  WCSR223514230; WCSR223514263     204472.0  501721.0   \n",
       "121                 WCSR223492026      34006.0  106146.0   \n",
       "122  WCBS223261609; WCBS223261608     197025.0  474202.0   \n",
       "123                           NaN          NaN       NaN   \n",
       "\n",
       "                            Site Name Transport Area Code  \\\n",
       "0                                Soho                 NaN   \n",
       "1                  Copper Consultancy                  2R   \n",
       "2                            Rixo LTD                  2R   \n",
       "3                   Z Hotels  ZHT Ltd                  2R   \n",
       "4                    The Milton Group                  2R   \n",
       "..                                ...                 ...   \n",
       "119  CAMBRIDGE (BIFFA WASTE SERVICES)                  1S   \n",
       "120             Donutelier by Roladin                  1S   \n",
       "121                 ROUND TABLE [SWR]                  1C   \n",
       "122            Empresa London Limited                  1T   \n",
       "123                       Mandela Way                 NaN   \n",
       "\n",
       "                      Product Name Quantity Created Date Required Date Notes  \\\n",
       "0                              NaN      NaN          NaN           NaN   NaN   \n",
       "1    Standard bags; Recycling bags     2; 2   2022-12-19    2022-12-20   NaN   \n",
       "2                   Cardboard Tape        1   2022-12-19    2022-12-20   NaN   \n",
       "3                    Standard bags       10   2022-12-19    2022-12-20   NaN   \n",
       "4                    Standard bags        2   2022-12-19    2022-12-20   NaN   \n",
       "..                             ...      ...          ...           ...   ...   \n",
       "119                  Standard bags        8   2022-12-19    2022-12-20   NaN   \n",
       "120  Standard bags; Recycling bags     6; 4   2022-12-19    2022-12-20   NaN   \n",
       "121                  Standard bags        4   2022-12-19    2022-12-20   NaN   \n",
       "122  Recycling bags; Standard bags     2; 1   2022-12-15    2022-12-16   NaN   \n",
       "123                            NaN      NaN          NaN           NaN   NaN   \n",
       "\n",
       "     ...                                       Site Address  collection_date  \\\n",
       "0    ...                                                NaN              NaN   \n",
       "1    ...   COPPER CONSULTANCY, 3RD FLOOR 49 CARNABY STRE...       2022-12-20   \n",
       "2    ...       RIXO LTD 44 CARNABY STREET  LONDON , W1F 9PS       2022-12-20   \n",
       "3    ...                52 POLAND STREET   LONDON , W1F 7NQ       2022-12-20   \n",
       "4    ...   NOLAND HOUSE 12-13 POLAND STREET  LONDON , W1...       2022-12-20   \n",
       "..   ...                                                ...              ...   \n",
       "119  ...          93 CHARING CROSS ROAD   LONDON , WC2H 0DP       2022-12-20   \n",
       "120  ...       48-50 CHARING CROSS ROAD   LONDON , WC2H 0BB       2022-12-20   \n",
       "121  ...   26-27 ST. MARTIN'S COURT   CITY OF WESTMINSTE...       2022-12-20   \n",
       "122  ...   EMPRESA LONDON LTD., 25 HENRIETTA STREET   LO...       2022-12-16   \n",
       "123  ...                                                NaN              NaN   \n",
       "\n",
       "     tansport_area_num        lat       lon Transport area  \\\n",
       "0                  NaN  51.513586 -0.137482            NaN   \n",
       "1                  2.0  51.512800 -0.138500           # 02   \n",
       "2                  2.0  51.512800 -0.138700           # 02   \n",
       "3                  2.0  51.514200 -0.137000           # 02   \n",
       "4                  2.0  51.514642 -0.136867           # 02   \n",
       "..                 ...        ...       ...            ...   \n",
       "119                1.0  51.513600 -0.129600           # 01   \n",
       "120                1.0  51.512200 -0.128300           # 01   \n",
       "121                1.0  51.510885 -0.127610           # 01   \n",
       "122                1.0  51.510800 -0.124300           # 01   \n",
       "123                NaN  51.491754 -0.079627            NaN   \n",
       "\n",
       "                     Product description Total boxes route_sequence Vehicle id  \n",
       "0                                    NaN         NaN              0        W04  \n",
       "1    Standard bags: 2\\nRecycling bags: 2         4.0              1        W04  \n",
       "2                      Cardboard Tape: 1         1.0              2        W04  \n",
       "3                      Standard bags: 10        10.0              3        W04  \n",
       "4                       Standard bags: 2         2.0              4        W04  \n",
       "..                                   ...         ...            ...        ...  \n",
       "119                     Standard bags: 8         8.0             22        W05  \n",
       "120  Standard bags: 6\\nRecycling bags: 4        10.0             23        W05  \n",
       "121                     Standard bags: 4         4.0             24        W05  \n",
       "122  Recycling bags: 2\\nStandard bags: 1         3.0             25        W05  \n",
       "123                                  NaN         NaN             26        W05  \n",
       "\n",
       "[124 rows x 34 columns]"
      ]
     },
     "execution_count": 9,
     "metadata": {},
     "output_type": "execute_result"
    }
   ],
   "source": [
    "jobs = pd.read_csv(\"data/test/route_test.csv\")\n",
    "unassigned_stops =  pd.read_csv(\"data/test/unassigned_jobs.csv\")\n",
    "assigned_stops = pd.read_csv(\"data/test/route_test.csv\")\n",
    "unassigned_routes = pd.read_csv(\"data/test/fleet_test.csv\")\n",
    "assigned_stops[\"Registration No\"] = assigned_stops[\"Vehicle id\"]\n",
    "assigned_stops = assigned_stops[list(unassigned_stops.columns) + [\"route_sequence\", \"Vehicle id\"]]\n",
    "assigned_stops"
   ]
  },
  {
   "cell_type": "code",
   "execution_count": 10,
   "metadata": {},
   "outputs": [],
   "source": [
    "from shapely import wkt\n",
    "import app_vukwm_bag_delivery.osrm_get_routes as osrm_get_routes\n",
    "import pandas as pd\n",
    "def generate_route_data(assigned_stops, unassigned_routes):\n",
    "\n",
    "    assigned_stops_route = assigned_stops.merge(\n",
    "        unassigned_routes.drop(columns=[\"lat\", \"lon\"])\n",
    "    )\n",
    "\n",
    "\n",
    "    assigned_stops_route = assigned_stops_route.assign(\n",
    "        route_id=assigned_stops_route[\"Vehicle id\"],\n",
    "        latitude=assigned_stops_route[\"lat\"],\n",
    "        longitude=assigned_stops_route[\"lon\"],\n",
    "        vehicle_type=assigned_stops_route[\"Type\"],\n",
    "        stop_id=np.arange(0, assigned_stops_route.shape[0]),\n",
    "    )\n",
    "\n",
    "    unassigned_routes = unassigned_routes.assign(\n",
    "    route_id=unassigned_routes[\"Vehicle id\"],\n",
    "    vehicle_type=unassigned_routes[\"Type\"]\n",
    ")\n",
    "    osrm_routes = osrm_get_routes.return_route_osrm_info(unassigned_routes, assigned_stops_route)\n",
    "\n",
    "    travel_legs = osrm_routes[0].copy()\n",
    "\n",
    "    travel_legs[\"geometry\"] = travel_legs[\"geometry\"].apply(wkt.dumps)\n",
    "    travel_legs = pd.DataFrame(travel_legs)\n",
    "\n",
    "    travel_legs[\"route_sequence\"] = travel_legs[\"travel_sequence\"] + 1\n",
    "    assigned_stops_route_paths = assigned_stops_route.merge(travel_legs, how=\"left\")\n",
    "    assigned_stops_route_paths[\"duration_seconds\"] = assigned_stops_route_paths[\n",
    "        \"duration_seconds\"\n",
    "    ].fillna(0)\n",
    "    assigned_stops_route_paths[\"distance_km\"] = assigned_stops_route_paths[\n",
    "        \"distance_km\"\n",
    "    ].fillna(0)\n",
    "\n",
    "    assigned_stops_route_paths[\"service_duration_seconds\"] = (\n",
    "        assigned_stops_route_paths[\"Average TAT per delivery (min)\"]\n",
    "        * 60\n",
    "        * (~assigned_stops_route_paths[\"Ticket No\"].isna())\n",
    "    )\n",
    "\n",
    "    assigned_stops_route_paths[\"travel_to_service_duration\"] = (\n",
    "        assigned_stops_route_paths[\"duration_seconds\"]\n",
    "        + assigned_stops_route_paths[\"service_duration_seconds\"]\n",
    "    )\n",
    "    assigned_stops_route_paths[\"total_duration\"] = assigned_stops_route_paths.groupby(\n",
    "        [\"route_id\"]\n",
    "    )[\"travel_to_service_duration\"].cumsum()\n",
    "\n",
    "    assigned_stops_route_paths[\"depart_stop_seconds\"] = assigned_stops_route_paths[\n",
    "        \"total_duration\"\n",
    "    ]\n",
    "    assigned_stops_route_paths[\"arrive_stop_seconds\"] = (\n",
    "        assigned_stops_route_paths[\"total_duration\"]\n",
    "        - assigned_stops_route_paths[\"service_duration_seconds\"]\n",
    "    )\n",
    "    assigned_stops_route_paths[\"arrival_time\"] = pd.to_datetime(\n",
    "        assigned_stops_route_paths[\"Shift start time\"]\n",
    "    ) + pd.to_timedelta(assigned_stops_route_paths[\"arrive_stop_seconds\"], unit=\"s\")\n",
    "    assigned_stops_route_paths[\"depart_time\"] = pd.to_datetime(\n",
    "        assigned_stops_route_paths[\"Shift start time\"]\n",
    "    ) + pd.to_timedelta(assigned_stops_route_paths[\"depart_stop_seconds\"], unit=\"s\")\n",
    "\n",
    "    return assigned_stops_route_paths\n"
   ]
  },
  {
   "cell_type": "code",
   "execution_count": 11,
   "metadata": {},
   "outputs": [
    {
     "name": "stderr",
     "output_type": "stream",
     "text": [
      "/Users/ejwillemse/dev/waste_labs_dev/app_vukwm_bag_delivery/.venv/lib/python3.10/site-packages/geopandas/geodataframe.py:1442: UserWarning: Geometry column does not contain geometry.\n",
      "  warnings.warn(\"Geometry column does not contain geometry.\")\n"
     ]
    }
   ],
   "source": [
    "assigned_stops_route_paths = generate_route_data(assigned_stops, unassigned_routes)"
   ]
  },
  {
   "cell_type": "code",
   "execution_count": 48,
   "metadata": {},
   "outputs": [
    {
     "data": {
      "application/vnd.plotly.v1+json": {
       "config": {
        "plotlyServerURL": "https://plot.ly"
       },
       "data": [
        {
         "alignmentgroup": "True",
         "base": [
          "2022-12-21T09:00:00",
          "2022-12-21T09:01:31.600000",
          "2022-12-21T09:06:38.600000",
          "2022-12-21T09:14:09.100000",
          "2022-12-21T09:19:28.700000",
          "2022-12-21T09:25:19.400000",
          "2022-12-21T09:31:28.500000",
          "2022-12-21T09:40:14.900000",
          "2022-12-21T09:48:32.600000",
          "2022-12-21T09:54:22.300000",
          "2022-12-21T10:02:27.400000",
          "2022-12-21T10:11:04.300000",
          "2022-12-21T10:19:45.100000",
          "2022-12-21T10:26:05.900000",
          "2022-12-21T10:31:48.100000",
          "2022-12-21T10:38:24.600000",
          "2022-12-21T10:45:46",
          "2022-12-21T10:57:11.300000",
          "2022-12-21T11:04:28.800000",
          "2022-12-21T11:11:20.400000",
          "2022-12-21T11:17:44.900000",
          "2022-12-21T11:24:19.700000",
          "2022-12-21T11:30:03.400000",
          "2022-12-21T11:36:40.500000",
          "2022-12-21T11:43:51",
          "2022-12-21T11:50:37.400000",
          "2022-12-21T11:56:03.700000"
         ],
         "hovertemplate": "Vehicle type=Bicycle<br>Arrival time=%{base}<br>Depart time=%{x}<br>Route ID=%{y}<br>Route sequence=%{text}<extra></extra>",
         "legendgroup": "Bicycle",
         "marker": {
          "color": "#636efa",
          "pattern": {
           "shape": ""
          }
         },
         "name": "Bicycle",
         "offsetgroup": "Bicycle",
         "orientation": "h",
         "showlegend": true,
         "text": [
          0,
          1,
          2,
          3,
          4,
          5,
          6,
          7,
          8,
          9,
          10,
          11,
          12,
          13,
          14,
          15,
          16,
          17,
          18,
          19,
          20,
          21,
          22,
          23,
          24,
          25,
          26
         ],
         "textposition": "auto",
         "type": "bar",
         "x": [
          0,
          300000,
          300000,
          300000,
          300000,
          300000,
          300000,
          300000,
          300000,
          300000,
          300000,
          300000,
          300000,
          300000,
          300000,
          300000,
          300000,
          300000,
          300000,
          300000,
          300000,
          300000,
          300000,
          300000,
          300000,
          300000,
          0
         ],
         "xaxis": "x",
         "y": [
          "W04",
          "W04",
          "W04",
          "W04",
          "W04",
          "W04",
          "W04",
          "W04",
          "W04",
          "W04",
          "W04",
          "W04",
          "W04",
          "W04",
          "W04",
          "W04",
          "W04",
          "W04",
          "W04",
          "W04",
          "W04",
          "W04",
          "W04",
          "W04",
          "W04",
          "W04",
          "W04"
         ],
         "yaxis": "y"
        },
        {
         "alignmentgroup": "True",
         "base": [
          "2022-12-21T09:00:00",
          "2022-12-21T09:14:36.700000",
          "2022-12-21T09:22:23.400000",
          "2022-12-21T09:27:25.600000",
          "2022-12-21T09:32:39.600000",
          "2022-12-21T09:37:49.100000",
          "2022-12-21T09:42:57.600000",
          "2022-12-21T09:49:48.600000",
          "2022-12-21T09:55:10.700000",
          "2022-12-21T10:13:02.500000",
          "2022-12-21T09:00:00",
          "2022-12-21T09:13:54.100000",
          "2022-12-21T09:24:43.900000",
          "2022-12-21T09:31:11.100000",
          "2022-12-21T09:37:19.400000",
          "2022-12-21T09:43:57.600000",
          "2022-12-21T09:50:32.100000",
          "2022-12-21T09:58:16",
          "2022-12-21T10:04:56.800000",
          "2022-12-21T10:10:02.800000",
          "2022-12-21T10:16:39",
          "2022-12-21T10:23:57.400000",
          "2022-12-21T10:30:28.700000",
          "2022-12-21T10:36:26.400000",
          "2022-12-21T10:43:23.900000",
          "2022-12-21T10:48:37.100000",
          "2022-12-21T10:56:05.300000",
          "2022-12-21T11:02:23.700000",
          "2022-12-21T11:07:58.800000",
          "2022-12-21T11:13:51.600000",
          "2022-12-21T11:19:40.400000",
          "2022-12-21T11:25:18.300000",
          "2022-12-21T11:30:53.800000",
          "2022-12-21T11:38:04.900000",
          "2022-12-21T11:44:32.100000",
          "2022-12-21T11:52:36.800000",
          "2022-12-21T11:59:29.100000",
          "2022-12-21T12:05:42.600000",
          "2022-12-21T12:13:09.100000",
          "2022-12-21T12:24:24.200000",
          "2022-12-21T12:42:41",
          "2022-12-21T09:00:00",
          "2022-12-21T09:14:07.200000",
          "2022-12-21T09:19:12.800000",
          "2022-12-21T09:28:29.500000",
          "2022-12-21T09:38:47.200000",
          "2022-12-21T09:44:36.900000",
          "2022-12-21T09:51:07.700000",
          "2022-12-21T09:56:12.800000",
          "2022-12-21T10:08:47.500000",
          "2022-12-21T10:18:06",
          "2022-12-21T10:23:27.900000",
          "2022-12-21T10:30:08.100000",
          "2022-12-21T10:35:23.100000",
          "2022-12-21T10:44:53.900000",
          "2022-12-21T10:50:11.400000",
          "2022-12-21T10:57:51.200000",
          "2022-12-21T11:04:54.500000",
          "2022-12-21T11:11:01.300000",
          "2022-12-21T11:18:11.700000",
          "2022-12-21T11:24:32.400000",
          "2022-12-21T11:32:02.200000",
          "2022-12-21T11:39:49.100000",
          "2022-12-21T11:46:56.700000",
          "2022-12-21T11:54:52.700000",
          "2022-12-21T12:06:28.300000",
          "2022-12-21T12:14:26.600000",
          "2022-12-21T12:20:22.100000",
          "2022-12-21T12:27:28.900000",
          "2022-12-21T12:44:26",
          "2022-12-21T09:00:00",
          "2022-12-21T09:13:46.400000",
          "2022-12-21T09:21:29.400000",
          "2022-12-21T09:26:58.200000",
          "2022-12-21T09:33:23.500000",
          "2022-12-21T09:39:12.300000",
          "2022-12-21T09:47:20.900000",
          "2022-12-21T09:55:48.400000",
          "2022-12-21T10:02:36.900000",
          "2022-12-21T10:10:27.900000",
          "2022-12-21T10:16:02.100000",
          "2022-12-21T10:22:44",
          "2022-12-21T10:30:14.800000",
          "2022-12-21T10:36:13.700000",
          "2022-12-21T10:43:16.100000",
          "2022-12-21T10:48:24.300000",
          "2022-12-21T10:59:00.300000",
          "2022-12-21T11:05:10.600000",
          "2022-12-21T11:10:19.500000",
          "2022-12-21T11:16:50.400000",
          "2022-12-21T11:24:23.800000",
          "2022-12-21T11:31:47.100000",
          "2022-12-21T11:37:46.800000",
          "2022-12-21T11:44:13.100000",
          "2022-12-21T11:50:11.100000",
          "2022-12-21T11:56:51.100000",
          "2022-12-21T12:14:13"
         ],
         "hovertemplate": "Vehicle type=Van<br>Arrival time=%{base}<br>Depart time=%{x}<br>Route ID=%{y}<br>Route sequence=%{text}<extra></extra>",
         "legendgroup": "Van",
         "marker": {
          "color": "#EF553B",
          "pattern": {
           "shape": ""
          }
         },
         "name": "Van",
         "offsetgroup": "Van",
         "orientation": "h",
         "showlegend": true,
         "text": [
          0,
          1,
          2,
          3,
          4,
          5,
          6,
          7,
          8,
          9,
          0,
          1,
          2,
          3,
          4,
          5,
          6,
          7,
          8,
          9,
          10,
          11,
          12,
          13,
          14,
          15,
          16,
          17,
          18,
          19,
          20,
          21,
          22,
          23,
          24,
          25,
          26,
          27,
          28,
          29,
          30,
          0,
          1,
          2,
          3,
          4,
          5,
          6,
          7,
          8,
          9,
          10,
          11,
          12,
          13,
          14,
          15,
          16,
          17,
          18,
          19,
          20,
          21,
          22,
          23,
          24,
          25,
          26,
          27,
          28,
          0,
          1,
          2,
          3,
          4,
          5,
          6,
          7,
          8,
          9,
          10,
          11,
          12,
          13,
          14,
          15,
          16,
          17,
          18,
          19,
          20,
          21,
          22,
          23,
          24,
          25,
          26
         ],
         "textposition": "auto",
         "type": "bar",
         "x": [
          0,
          300000,
          300000,
          300000,
          300000,
          300000,
          300000,
          300000,
          300000,
          0,
          0,
          300000,
          300000,
          300000,
          300000,
          300000,
          300000,
          300000,
          300000,
          300000,
          300000,
          300000,
          300000,
          300000,
          300000,
          300000,
          300000,
          300000,
          300000,
          300000,
          300000,
          300000,
          300000,
          300000,
          300000,
          300000,
          300000,
          300000,
          300000,
          300000,
          0,
          0,
          300000,
          300000,
          300000,
          300000,
          300000,
          300000,
          300000,
          300000,
          300000,
          300000,
          300000,
          300000,
          300000,
          300000,
          300000,
          300000,
          300000,
          300000,
          300000,
          300000,
          300000,
          300000,
          300000,
          300000,
          300000,
          300000,
          300000,
          0,
          0,
          300000,
          300000,
          300000,
          300000,
          300000,
          300000,
          300000,
          300000,
          300000,
          300000,
          300000,
          300000,
          300000,
          300000,
          300000,
          300000,
          300000,
          300000,
          300000,
          300000,
          300000,
          300000,
          300000,
          300000,
          300000,
          0
         ],
         "xaxis": "x",
         "y": [
          "W01",
          "W01",
          "W01",
          "W01",
          "W01",
          "W01",
          "W01",
          "W01",
          "W01",
          "W01",
          "W02",
          "W02",
          "W02",
          "W02",
          "W02",
          "W02",
          "W02",
          "W02",
          "W02",
          "W02",
          "W02",
          "W02",
          "W02",
          "W02",
          "W02",
          "W02",
          "W02",
          "W02",
          "W02",
          "W02",
          "W02",
          "W02",
          "W02",
          "W02",
          "W02",
          "W02",
          "W02",
          "W02",
          "W02",
          "W02",
          "W02",
          "W03",
          "W03",
          "W03",
          "W03",
          "W03",
          "W03",
          "W03",
          "W03",
          "W03",
          "W03",
          "W03",
          "W03",
          "W03",
          "W03",
          "W03",
          "W03",
          "W03",
          "W03",
          "W03",
          "W03",
          "W03",
          "W03",
          "W03",
          "W03",
          "W03",
          "W03",
          "W03",
          "W03",
          "W03",
          "W05",
          "W05",
          "W05",
          "W05",
          "W05",
          "W05",
          "W05",
          "W05",
          "W05",
          "W05",
          "W05",
          "W05",
          "W05",
          "W05",
          "W05",
          "W05",
          "W05",
          "W05",
          "W05",
          "W05",
          "W05",
          "W05",
          "W05",
          "W05",
          "W05",
          "W05",
          "W05"
         ],
         "yaxis": "y"
        }
       ],
       "layout": {
        "barmode": "overlay",
        "legend": {
         "title": {
          "text": "Vehicle type"
         },
         "tracegroupgap": 0
        },
        "margin": {
         "t": 60
        },
        "template": {
         "data": {
          "bar": [
           {
            "error_x": {
             "color": "#2a3f5f"
            },
            "error_y": {
             "color": "#2a3f5f"
            },
            "marker": {
             "line": {
              "color": "#E5ECF6",
              "width": 0.5
             },
             "pattern": {
              "fillmode": "overlay",
              "size": 10,
              "solidity": 0.2
             }
            },
            "type": "bar"
           }
          ],
          "barpolar": [
           {
            "marker": {
             "line": {
              "color": "#E5ECF6",
              "width": 0.5
             },
             "pattern": {
              "fillmode": "overlay",
              "size": 10,
              "solidity": 0.2
             }
            },
            "type": "barpolar"
           }
          ],
          "carpet": [
           {
            "aaxis": {
             "endlinecolor": "#2a3f5f",
             "gridcolor": "white",
             "linecolor": "white",
             "minorgridcolor": "white",
             "startlinecolor": "#2a3f5f"
            },
            "baxis": {
             "endlinecolor": "#2a3f5f",
             "gridcolor": "white",
             "linecolor": "white",
             "minorgridcolor": "white",
             "startlinecolor": "#2a3f5f"
            },
            "type": "carpet"
           }
          ],
          "choropleth": [
           {
            "colorbar": {
             "outlinewidth": 0,
             "ticks": ""
            },
            "type": "choropleth"
           }
          ],
          "contour": [
           {
            "colorbar": {
             "outlinewidth": 0,
             "ticks": ""
            },
            "colorscale": [
             [
              0,
              "#0d0887"
             ],
             [
              0.1111111111111111,
              "#46039f"
             ],
             [
              0.2222222222222222,
              "#7201a8"
             ],
             [
              0.3333333333333333,
              "#9c179e"
             ],
             [
              0.4444444444444444,
              "#bd3786"
             ],
             [
              0.5555555555555556,
              "#d8576b"
             ],
             [
              0.6666666666666666,
              "#ed7953"
             ],
             [
              0.7777777777777778,
              "#fb9f3a"
             ],
             [
              0.8888888888888888,
              "#fdca26"
             ],
             [
              1,
              "#f0f921"
             ]
            ],
            "type": "contour"
           }
          ],
          "contourcarpet": [
           {
            "colorbar": {
             "outlinewidth": 0,
             "ticks": ""
            },
            "type": "contourcarpet"
           }
          ],
          "heatmap": [
           {
            "colorbar": {
             "outlinewidth": 0,
             "ticks": ""
            },
            "colorscale": [
             [
              0,
              "#0d0887"
             ],
             [
              0.1111111111111111,
              "#46039f"
             ],
             [
              0.2222222222222222,
              "#7201a8"
             ],
             [
              0.3333333333333333,
              "#9c179e"
             ],
             [
              0.4444444444444444,
              "#bd3786"
             ],
             [
              0.5555555555555556,
              "#d8576b"
             ],
             [
              0.6666666666666666,
              "#ed7953"
             ],
             [
              0.7777777777777778,
              "#fb9f3a"
             ],
             [
              0.8888888888888888,
              "#fdca26"
             ],
             [
              1,
              "#f0f921"
             ]
            ],
            "type": "heatmap"
           }
          ],
          "heatmapgl": [
           {
            "colorbar": {
             "outlinewidth": 0,
             "ticks": ""
            },
            "colorscale": [
             [
              0,
              "#0d0887"
             ],
             [
              0.1111111111111111,
              "#46039f"
             ],
             [
              0.2222222222222222,
              "#7201a8"
             ],
             [
              0.3333333333333333,
              "#9c179e"
             ],
             [
              0.4444444444444444,
              "#bd3786"
             ],
             [
              0.5555555555555556,
              "#d8576b"
             ],
             [
              0.6666666666666666,
              "#ed7953"
             ],
             [
              0.7777777777777778,
              "#fb9f3a"
             ],
             [
              0.8888888888888888,
              "#fdca26"
             ],
             [
              1,
              "#f0f921"
             ]
            ],
            "type": "heatmapgl"
           }
          ],
          "histogram": [
           {
            "marker": {
             "pattern": {
              "fillmode": "overlay",
              "size": 10,
              "solidity": 0.2
             }
            },
            "type": "histogram"
           }
          ],
          "histogram2d": [
           {
            "colorbar": {
             "outlinewidth": 0,
             "ticks": ""
            },
            "colorscale": [
             [
              0,
              "#0d0887"
             ],
             [
              0.1111111111111111,
              "#46039f"
             ],
             [
              0.2222222222222222,
              "#7201a8"
             ],
             [
              0.3333333333333333,
              "#9c179e"
             ],
             [
              0.4444444444444444,
              "#bd3786"
             ],
             [
              0.5555555555555556,
              "#d8576b"
             ],
             [
              0.6666666666666666,
              "#ed7953"
             ],
             [
              0.7777777777777778,
              "#fb9f3a"
             ],
             [
              0.8888888888888888,
              "#fdca26"
             ],
             [
              1,
              "#f0f921"
             ]
            ],
            "type": "histogram2d"
           }
          ],
          "histogram2dcontour": [
           {
            "colorbar": {
             "outlinewidth": 0,
             "ticks": ""
            },
            "colorscale": [
             [
              0,
              "#0d0887"
             ],
             [
              0.1111111111111111,
              "#46039f"
             ],
             [
              0.2222222222222222,
              "#7201a8"
             ],
             [
              0.3333333333333333,
              "#9c179e"
             ],
             [
              0.4444444444444444,
              "#bd3786"
             ],
             [
              0.5555555555555556,
              "#d8576b"
             ],
             [
              0.6666666666666666,
              "#ed7953"
             ],
             [
              0.7777777777777778,
              "#fb9f3a"
             ],
             [
              0.8888888888888888,
              "#fdca26"
             ],
             [
              1,
              "#f0f921"
             ]
            ],
            "type": "histogram2dcontour"
           }
          ],
          "mesh3d": [
           {
            "colorbar": {
             "outlinewidth": 0,
             "ticks": ""
            },
            "type": "mesh3d"
           }
          ],
          "parcoords": [
           {
            "line": {
             "colorbar": {
              "outlinewidth": 0,
              "ticks": ""
             }
            },
            "type": "parcoords"
           }
          ],
          "pie": [
           {
            "automargin": true,
            "type": "pie"
           }
          ],
          "scatter": [
           {
            "fillpattern": {
             "fillmode": "overlay",
             "size": 10,
             "solidity": 0.2
            },
            "type": "scatter"
           }
          ],
          "scatter3d": [
           {
            "line": {
             "colorbar": {
              "outlinewidth": 0,
              "ticks": ""
             }
            },
            "marker": {
             "colorbar": {
              "outlinewidth": 0,
              "ticks": ""
             }
            },
            "type": "scatter3d"
           }
          ],
          "scattercarpet": [
           {
            "marker": {
             "colorbar": {
              "outlinewidth": 0,
              "ticks": ""
             }
            },
            "type": "scattercarpet"
           }
          ],
          "scattergeo": [
           {
            "marker": {
             "colorbar": {
              "outlinewidth": 0,
              "ticks": ""
             }
            },
            "type": "scattergeo"
           }
          ],
          "scattergl": [
           {
            "marker": {
             "colorbar": {
              "outlinewidth": 0,
              "ticks": ""
             }
            },
            "type": "scattergl"
           }
          ],
          "scattermapbox": [
           {
            "marker": {
             "colorbar": {
              "outlinewidth": 0,
              "ticks": ""
             }
            },
            "type": "scattermapbox"
           }
          ],
          "scatterpolar": [
           {
            "marker": {
             "colorbar": {
              "outlinewidth": 0,
              "ticks": ""
             }
            },
            "type": "scatterpolar"
           }
          ],
          "scatterpolargl": [
           {
            "marker": {
             "colorbar": {
              "outlinewidth": 0,
              "ticks": ""
             }
            },
            "type": "scatterpolargl"
           }
          ],
          "scatterternary": [
           {
            "marker": {
             "colorbar": {
              "outlinewidth": 0,
              "ticks": ""
             }
            },
            "type": "scatterternary"
           }
          ],
          "surface": [
           {
            "colorbar": {
             "outlinewidth": 0,
             "ticks": ""
            },
            "colorscale": [
             [
              0,
              "#0d0887"
             ],
             [
              0.1111111111111111,
              "#46039f"
             ],
             [
              0.2222222222222222,
              "#7201a8"
             ],
             [
              0.3333333333333333,
              "#9c179e"
             ],
             [
              0.4444444444444444,
              "#bd3786"
             ],
             [
              0.5555555555555556,
              "#d8576b"
             ],
             [
              0.6666666666666666,
              "#ed7953"
             ],
             [
              0.7777777777777778,
              "#fb9f3a"
             ],
             [
              0.8888888888888888,
              "#fdca26"
             ],
             [
              1,
              "#f0f921"
             ]
            ],
            "type": "surface"
           }
          ],
          "table": [
           {
            "cells": {
             "fill": {
              "color": "#EBF0F8"
             },
             "line": {
              "color": "white"
             }
            },
            "header": {
             "fill": {
              "color": "#C8D4E3"
             },
             "line": {
              "color": "white"
             }
            },
            "type": "table"
           }
          ]
         },
         "layout": {
          "annotationdefaults": {
           "arrowcolor": "#2a3f5f",
           "arrowhead": 0,
           "arrowwidth": 1
          },
          "autotypenumbers": "strict",
          "coloraxis": {
           "colorbar": {
            "outlinewidth": 0,
            "ticks": ""
           }
          },
          "colorscale": {
           "diverging": [
            [
             0,
             "#8e0152"
            ],
            [
             0.1,
             "#c51b7d"
            ],
            [
             0.2,
             "#de77ae"
            ],
            [
             0.3,
             "#f1b6da"
            ],
            [
             0.4,
             "#fde0ef"
            ],
            [
             0.5,
             "#f7f7f7"
            ],
            [
             0.6,
             "#e6f5d0"
            ],
            [
             0.7,
             "#b8e186"
            ],
            [
             0.8,
             "#7fbc41"
            ],
            [
             0.9,
             "#4d9221"
            ],
            [
             1,
             "#276419"
            ]
           ],
           "sequential": [
            [
             0,
             "#0d0887"
            ],
            [
             0.1111111111111111,
             "#46039f"
            ],
            [
             0.2222222222222222,
             "#7201a8"
            ],
            [
             0.3333333333333333,
             "#9c179e"
            ],
            [
             0.4444444444444444,
             "#bd3786"
            ],
            [
             0.5555555555555556,
             "#d8576b"
            ],
            [
             0.6666666666666666,
             "#ed7953"
            ],
            [
             0.7777777777777778,
             "#fb9f3a"
            ],
            [
             0.8888888888888888,
             "#fdca26"
            ],
            [
             1,
             "#f0f921"
            ]
           ],
           "sequentialminus": [
            [
             0,
             "#0d0887"
            ],
            [
             0.1111111111111111,
             "#46039f"
            ],
            [
             0.2222222222222222,
             "#7201a8"
            ],
            [
             0.3333333333333333,
             "#9c179e"
            ],
            [
             0.4444444444444444,
             "#bd3786"
            ],
            [
             0.5555555555555556,
             "#d8576b"
            ],
            [
             0.6666666666666666,
             "#ed7953"
            ],
            [
             0.7777777777777778,
             "#fb9f3a"
            ],
            [
             0.8888888888888888,
             "#fdca26"
            ],
            [
             1,
             "#f0f921"
            ]
           ]
          },
          "colorway": [
           "#636efa",
           "#EF553B",
           "#00cc96",
           "#ab63fa",
           "#FFA15A",
           "#19d3f3",
           "#FF6692",
           "#B6E880",
           "#FF97FF",
           "#FECB52"
          ],
          "font": {
           "color": "#2a3f5f"
          },
          "geo": {
           "bgcolor": "white",
           "lakecolor": "white",
           "landcolor": "#E5ECF6",
           "showlakes": true,
           "showland": true,
           "subunitcolor": "white"
          },
          "hoverlabel": {
           "align": "left"
          },
          "hovermode": "closest",
          "mapbox": {
           "style": "light"
          },
          "paper_bgcolor": "white",
          "plot_bgcolor": "#E5ECF6",
          "polar": {
           "angularaxis": {
            "gridcolor": "white",
            "linecolor": "white",
            "ticks": ""
           },
           "bgcolor": "#E5ECF6",
           "radialaxis": {
            "gridcolor": "white",
            "linecolor": "white",
            "ticks": ""
           }
          },
          "scene": {
           "xaxis": {
            "backgroundcolor": "#E5ECF6",
            "gridcolor": "white",
            "gridwidth": 2,
            "linecolor": "white",
            "showbackground": true,
            "ticks": "",
            "zerolinecolor": "white"
           },
           "yaxis": {
            "backgroundcolor": "#E5ECF6",
            "gridcolor": "white",
            "gridwidth": 2,
            "linecolor": "white",
            "showbackground": true,
            "ticks": "",
            "zerolinecolor": "white"
           },
           "zaxis": {
            "backgroundcolor": "#E5ECF6",
            "gridcolor": "white",
            "gridwidth": 2,
            "linecolor": "white",
            "showbackground": true,
            "ticks": "",
            "zerolinecolor": "white"
           }
          },
          "shapedefaults": {
           "line": {
            "color": "#2a3f5f"
           }
          },
          "ternary": {
           "aaxis": {
            "gridcolor": "white",
            "linecolor": "white",
            "ticks": ""
           },
           "baxis": {
            "gridcolor": "white",
            "linecolor": "white",
            "ticks": ""
           },
           "bgcolor": "#E5ECF6",
           "caxis": {
            "gridcolor": "white",
            "linecolor": "white",
            "ticks": ""
           }
          },
          "title": {
           "x": 0.05
          },
          "xaxis": {
           "automargin": true,
           "gridcolor": "white",
           "linecolor": "white",
           "ticks": "",
           "title": {
            "standoff": 15
           },
           "zerolinecolor": "white",
           "zerolinewidth": 2
          },
          "yaxis": {
           "automargin": true,
           "gridcolor": "white",
           "linecolor": "white",
           "ticks": "",
           "title": {
            "standoff": 15
           },
           "zerolinecolor": "white",
           "zerolinewidth": 2
          }
         }
        },
        "xaxis": {
         "anchor": "y",
         "domain": [
          0,
          1
         ],
         "type": "date"
        },
        "yaxis": {
         "anchor": "x",
         "domain": [
          0,
          1
         ],
         "title": {
          "text": "Route ID"
         }
        }
       }
      }
     },
     "metadata": {},
     "output_type": "display_data"
    }
   ],
   "source": [
    "import plotly.express as px\n",
    "assigned_stops_route_paths_plot = assigned_stops_route_paths.copy()\n",
    "assigned_stops_route_paths_plot = assigned_stops_route_paths_plot.rename(columns={\"arrival_time\": \"Arrival time\",\"depart_time\": \"Depart time\", \"route_id\": \"Route ID\", \"vehicle_type\": \"Vehicle type\", \"route_sequence\": \"Route sequence\"})\n",
    "fig = px.timeline(assigned_stops_route_paths_plot, x_start=\"Arrival time\", x_end=\"Depart time\", y=\"Route ID\", color=\"Vehicle type\", text=\"Route sequence\")\n",
    "fig.show()"
   ]
  },
  {
   "cell_type": "code",
   "execution_count": 34,
   "metadata": {},
   "outputs": [],
   "source": [
    "import plotly.express as px\n",
    "import pandas as pd"
   ]
  },
  {
   "cell_type": "code",
   "execution_count": 87,
   "metadata": {},
   "outputs": [
    {
     "data": {
      "text/plain": [
       "119"
      ]
     },
     "execution_count": 87,
     "metadata": {},
     "output_type": "execute_result"
    }
   ],
   "source": [
    "travel_legs = osrm_routes[0].copy()\n",
    "travel_legs.shape[0]"
   ]
  },
  {
   "cell_type": "code",
   "execution_count": 88,
   "metadata": {},
   "outputs": [
    {
     "name": "stderr",
     "output_type": "stream",
     "text": [
      "/Users/ejwillemse/dev/waste_labs_dev/app_vukwm_bag_delivery/.venv/lib/python3.10/site-packages/geopandas/geodataframe.py:1442: UserWarning: Geometry column does not contain geometry.\n",
      "  warnings.warn(\"Geometry column does not contain geometry.\")\n"
     ]
    }
   ],
   "source": [
    "travel_legs[\"geometry\"] = travel_legs[\"geometry\"].apply(wkt.dumps)\n",
    "travel_legs = pd.DataFrame(travel_legs)"
   ]
  },
  {
   "cell_type": "code",
   "execution_count": 63,
   "metadata": {},
   "outputs": [
    {
     "data": {
      "text/plain": [
       "Index(['Ticket No', 'Customer Bk', 'Site Bk', 'Site Name',\n",
       "       'Transport Area Code', 'Product Name', 'Quantity', 'Created Date',\n",
       "       'Required Date', 'Notes', 'on hold', 'Schedule ID', 'Scheduled Date',\n",
       "       'Completed Date', 'Registration No', 'Site Address1', 'Site Address2',\n",
       "       'Site Address3', 'Site Address4', 'Site Address5', 'Site Post Town',\n",
       "       'Site Post Code', 'Site Latitude', 'Site Longitude', 'Site Address',\n",
       "       'collection_date', 'tansport_area_num', 'lat', 'lon', 'Transport area',\n",
       "       'Product description', 'Total boxes', 'route_sequence', 'Vehicle id',\n",
       "       'Type', 'Capacity (#boxes)', 'Depot', 'Shift start time',\n",
       "       'Average TAT per delivery (min)', 'Dedicated transport zones',\n",
       "       'Cost (£) per km', 'Cost (£) per hour', 'route_id', 'latitude',\n",
       "       'longitude', 'vehicle_type', 'stop_id'],\n",
       "      dtype='object')"
      ]
     },
     "execution_count": 63,
     "metadata": {},
     "output_type": "execute_result"
    }
   ],
   "source": [
    "assigned_stops_route.columns"
   ]
  },
  {
   "cell_type": "code",
   "execution_count": 89,
   "metadata": {},
   "outputs": [],
   "source": [
    "travel_legs[\"route_sequence\"] = travel_legs[\"travel_sequence\"] + 1\n",
    "assigned_stops_route_paths = assigned_stops_route.merge(travel_legs, how=\"left\")\n",
    "assigned_stops_route_paths[\"duration_seconds\"] = assigned_stops_route_paths[\n",
    "    \"duration_seconds\"\n",
    "].fillna(0)\n",
    "assigned_stops_route_paths[\"distance_km\"] = assigned_stops_route_paths[\n",
    "    \"distance_km\"\n",
    "].fillna(0)\n",
    "\n",
    "assigned_stops_route_paths[\"service_duration_seconds\"] = (\n",
    "    assigned_stops_route_paths[\"Average TAT per delivery (min)\"]\n",
    "    * 60\n",
    "    * (~assigned_stops_route_paths[\"Ticket No\"].isna())\n",
    ")\n",
    "\n",
    "assigned_stops_route_paths[\"travel_to_service_duration\"] = (\n",
    "    assigned_stops_route_paths[\"duration_seconds\"]\n",
    "    + assigned_stops_route_paths[\"service_duration_seconds\"]\n",
    ")\n",
    "assigned_stops_route_paths[\"total_duration\"] = assigned_stops_route_paths.groupby(\n",
    "    [\"route_id\"]\n",
    ")[\"travel_to_service_duration\"].cumsum()\n",
    "\n",
    "assigned_stops_route_paths[\"depart_stop_seconds\"] = assigned_stops_route_paths[\n",
    "    \"total_duration\"\n",
    "]\n",
    "assigned_stops_route_paths[\"arrive_stop_seconds\"] = (\n",
    "    assigned_stops_route_paths[\"total_duration\"]\n",
    "    - assigned_stops_route_paths[\"service_duration_seconds\"]\n",
    ")\n",
    "assigned_stops_route_paths[\"arrival_time\"] = pd.to_datetime(\n",
    "    assigned_stops_route_paths[\"Shift start time\"]\n",
    ") + pd.to_timedelta(assigned_stops_route_paths[\"arrive_stop_seconds\"], unit=\"s\")\n",
    "assigned_stops_route_paths[\"depart_time\"] = pd.to_datetime(\n",
    "    assigned_stops_route_paths[\"Shift start time\"]\n",
    ") + pd.to_timedelta(assigned_stops_route_paths[\"depart_stop_seconds\"], unit=\"s\")\n"
   ]
  },
  {
   "cell_type": "code",
   "execution_count": 105,
   "metadata": {},
   "outputs": [],
   "source": [
    "def return_order_config():\n",
    "    config = {\n",
    "        \"version\": \"v1\",\n",
    "        \"config\": {\n",
    "            \"visState\": {\n",
    "                \"filters\": [\n",
    "                    {\n",
    "                        \"dataId\": [\"orders\"],\n",
    "                        \"id\": \"yt10dkouq\",\n",
    "                        \"name\": [\"arrival_time\"],\n",
    "                        \"type\": \"timeRange\",\n",
    "                        \"value\": [1671613200000, 1671626666000],\n",
    "                        \"enlarged\": True,\n",
    "                        \"plotType\": \"histogram\",\n",
    "                        \"animationWindow\": \"free\",\n",
    "                        \"yAxis\": None,\n",
    "                        \"speed\": 1,\n",
    "                    },\n",
    "                    {\n",
    "                        \"dataId\": [\"orders\"],\n",
    "                        \"id\": \"wrkhad0sp\",\n",
    "                        \"name\": [\"Registration No\"],\n",
    "                        \"type\": \"multiSelect\",\n",
    "                        \"value\": [],\n",
    "                        \"enlarged\": False,\n",
    "                        \"plotType\": \"histogram\",\n",
    "                        \"animationWindow\": \"free\",\n",
    "                        \"yAxis\": None,\n",
    "                        \"speed\": 1,\n",
    "                    },\n",
    "                ],\n",
    "                \"layers\": [\n",
    "                    {\n",
    "                        \"id\": \"o4a1e2\",\n",
    "                        \"type\": \"point\",\n",
    "                        \"config\": {\n",
    "                            \"dataId\": \"orders\",\n",
    "                            \"label\": \"Stops\",\n",
    "                            \"color\": [241, 92, 23],\n",
    "                            \"highlightColor\": [252, 242, 26, 255],\n",
    "                            \"columns\": {\n",
    "                                \"lat\": \"Site Latitude\",\n",
    "                                \"lng\": \"Site Longitude\",\n",
    "                                \"altitude\": None,\n",
    "                            },\n",
    "                            \"isVisible\": True,\n",
    "                            \"visConfig\": {\n",
    "                                \"radius\": 15,\n",
    "                                \"fixedRadius\": False,\n",
    "                                \"opacity\": 0.81,\n",
    "                                \"outline\": True,\n",
    "                                \"thickness\": 2,\n",
    "                                \"strokeColor\": [25, 20, 16],\n",
    "                                \"colorRange\": {\n",
    "                                    \"name\": \"Uber Viz Qualitative 4\",\n",
    "                                    \"type\": \"qualitative\",\n",
    "                                    \"category\": \"Uber\",\n",
    "                                    \"colors\": [\n",
    "                                        \"#12939A\",\n",
    "                                        \"#DDB27C\",\n",
    "                                        \"#88572C\",\n",
    "                                        \"#FF991F\",\n",
    "                                        \"#F15C17\",\n",
    "                                        \"#223F9A\",\n",
    "                                        \"#DA70BF\",\n",
    "                                        \"#125C77\",\n",
    "                                        \"#4DC19C\",\n",
    "                                        \"#776E57\",\n",
    "                                        \"#17B8BE\",\n",
    "                                        \"#F6D18A\",\n",
    "                                        \"#B7885E\",\n",
    "                                        \"#FFCB99\",\n",
    "                                        \"#F89570\",\n",
    "                                        \"#829AE3\",\n",
    "                                        \"#E79FD5\",\n",
    "                                        \"#1E96BE\",\n",
    "                                        \"#89DAC1\",\n",
    "                                        \"#B3AD9E\",\n",
    "                                    ],\n",
    "                                },\n",
    "                                \"strokeColorRange\": {\n",
    "                                    \"name\": \"Global Warming\",\n",
    "                                    \"type\": \"sequential\",\n",
    "                                    \"category\": \"Uber\",\n",
    "                                    \"colors\": [\n",
    "                                        \"#5A1846\",\n",
    "                                        \"#900C3F\",\n",
    "                                        \"#C70039\",\n",
    "                                        \"#E3611C\",\n",
    "                                        \"#F1920E\",\n",
    "                                        \"#FFC300\",\n",
    "                                    ],\n",
    "                                },\n",
    "                                \"radiusRange\": [0, 50],\n",
    "                                \"filled\": True,\n",
    "                            },\n",
    "                            \"hidden\": False,\n",
    "                            \"textLabel\": [\n",
    "                                {\n",
    "                                    \"field\": {\n",
    "                                        \"name\": \"route_sequence\",\n",
    "                                        \"type\": \"integer\",\n",
    "                                    },\n",
    "                                    \"color\": [205, 201, 191],\n",
    "                                    \"size\": 18,\n",
    "                                    \"offset\": [0, 0],\n",
    "                                    \"anchor\": \"start\",\n",
    "                                    \"alignment\": \"center\",\n",
    "                                }\n",
    "                            ],\n",
    "                        },\n",
    "                        \"visualChannels\": {\n",
    "                            \"colorField\": {\"name\": \"Registration No\", \"type\": \"string\"},\n",
    "                            \"colorScale\": \"ordinal\",\n",
    "                            \"strokeColorField\": None,\n",
    "                            \"strokeColorScale\": \"quantile\",\n",
    "                            \"sizeField\": None,\n",
    "                            \"sizeScale\": \"linear\",\n",
    "                        },\n",
    "                    },\n",
    "                    {\n",
    "                        \"id\": \"h5ysd8s\",\n",
    "                        \"type\": \"geojson\",\n",
    "                        \"config\": {\n",
    "                            \"dataId\": \"orders\",\n",
    "                            \"label\": \"Routes\",\n",
    "                            \"color\": [255, 203, 153],\n",
    "                            \"highlightColor\": [252, 242, 26, 255],\n",
    "                            \"columns\": {\"geojson\": \"geometry\"},\n",
    "                            \"isVisible\": True,\n",
    "                            \"visConfig\": {\n",
    "                                \"opacity\": 0.8,\n",
    "                                \"strokeOpacity\": 0.8,\n",
    "                                \"thickness\": 0.5,\n",
    "                                \"strokeColor\": None,\n",
    "                                \"colorRange\": {\n",
    "                                    \"name\": \"Global Warming\",\n",
    "                                    \"type\": \"sequential\",\n",
    "                                    \"category\": \"Uber\",\n",
    "                                    \"colors\": [\n",
    "                                        \"#5A1846\",\n",
    "                                        \"#900C3F\",\n",
    "                                        \"#C70039\",\n",
    "                                        \"#E3611C\",\n",
    "                                        \"#F1920E\",\n",
    "                                        \"#FFC300\",\n",
    "                                    ],\n",
    "                                },\n",
    "                                \"strokeColorRange\": {\n",
    "                                    \"name\": \"Uber Viz Qualitative 4\",\n",
    "                                    \"type\": \"qualitative\",\n",
    "                                    \"category\": \"Uber\",\n",
    "                                    \"colors\": [\n",
    "                                        \"#12939A\",\n",
    "                                        \"#DDB27C\",\n",
    "                                        \"#88572C\",\n",
    "                                        \"#FF991F\",\n",
    "                                        \"#F15C17\",\n",
    "                                        \"#223F9A\",\n",
    "                                        \"#DA70BF\",\n",
    "                                        \"#125C77\",\n",
    "                                        \"#4DC19C\",\n",
    "                                        \"#776E57\",\n",
    "                                        \"#17B8BE\",\n",
    "                                        \"#F6D18A\",\n",
    "                                        \"#B7885E\",\n",
    "                                        \"#FFCB99\",\n",
    "                                        \"#F89570\",\n",
    "                                        \"#829AE3\",\n",
    "                                        \"#E79FD5\",\n",
    "                                        \"#1E96BE\",\n",
    "                                        \"#89DAC1\",\n",
    "                                        \"#B3AD9E\",\n",
    "                                    ],\n",
    "                                },\n",
    "                                \"radius\": 10,\n",
    "                                \"sizeRange\": [0, 10],\n",
    "                                \"radiusRange\": [0, 50],\n",
    "                                \"heightRange\": [0, 500],\n",
    "                                \"elevationScale\": 5,\n",
    "                                \"enableElevationZoomFactor\": True,\n",
    "                                \"stroked\": True,\n",
    "                                \"filled\": False,\n",
    "                                \"enable3d\": False,\n",
    "                                \"wireframe\": False,\n",
    "                            },\n",
    "                            \"hidden\": False,\n",
    "                            \"textLabel\": [\n",
    "                                {\n",
    "                                    \"field\": None,\n",
    "                                    \"color\": [255, 255, 255],\n",
    "                                    \"size\": 18,\n",
    "                                    \"offset\": [0, 0],\n",
    "                                    \"anchor\": \"start\",\n",
    "                                    \"alignment\": \"center\",\n",
    "                                }\n",
    "                            ],\n",
    "                        },\n",
    "                        \"visualChannels\": {\n",
    "                            \"colorField\": None,\n",
    "                            \"colorScale\": \"quantile\",\n",
    "                            \"strokeColorField\": {\n",
    "                                \"name\": \"Registration No\",\n",
    "                                \"type\": \"string\",\n",
    "                            },\n",
    "                            \"strokeColorScale\": \"ordinal\",\n",
    "                            \"sizeField\": None,\n",
    "                            \"sizeScale\": \"linear\",\n",
    "                            \"heightField\": None,\n",
    "                            \"heightScale\": \"linear\",\n",
    "                            \"radiusField\": None,\n",
    "                            \"radiusScale\": \"linear\",\n",
    "                        },\n",
    "                    },\n",
    "                ],\n",
    "                \"interactionConfig\": {\n",
    "                    \"tooltip\": {\n",
    "                        \"fieldsToShow\": {\n",
    "                            \"orders\": [\n",
    "                                {\"name\": \"Customer Bk\", \"format\": None},\n",
    "                                {\"name\": \"Site Bk\", \"format\": None},\n",
    "                                {\"name\": \"Site Name\", \"format\": None},\n",
    "                                {\"name\": \"Transport Area Code\", \"format\": None},\n",
    "                                {\"name\": \"Site Address\", \"format\": None},\n",
    "                                {\"name\": \"Notes\", \"format\": None},\n",
    "                                {\"name\": \"Product description\", \"format\": None},\n",
    "                                {\"name\": \"Registration No\", \"format\": None},\n",
    "                                {\"name\": \"route_sequence\", \"format\": None},\n",
    "                                {\"name\": \"Transport area\", \"format\": None},\n",
    "                                {\"name\": \"Type\", \"format\": None},\n",
    "                                {\"name\": \"arrival_time\", \"format\": None},\n",
    "                                {\"name\": \"depart_time\", \"format\": None},\n",
    "                            ]\n",
    "                        },\n",
    "                        \"compareMode\": False,\n",
    "                        \"compareType\": \"absolute\",\n",
    "                        \"enabled\": True,\n",
    "                    },\n",
    "                    \"brush\": {\"size\": 0.5, \"enabled\": False},\n",
    "                    \"geocoder\": {\"enabled\": False},\n",
    "                    \"coordinate\": {\"enabled\": False},\n",
    "                },\n",
    "                \"layerBlending\": \"normal\",\n",
    "                \"splitMaps\": [],\n",
    "                \"animationConfig\": {\"currentTime\": None, \"speed\": 1},\n",
    "            },\n",
    "            \"mapState\": {\n",
    "                \"bearing\": 0,\n",
    "                \"dragRotate\": False,\n",
    "                \"latitude\": 51.503679000596435,\n",
    "                \"longitude\": -0.11381729292045753,\n",
    "                \"pitch\": 0,\n",
    "                \"zoom\": 12.5,\n",
    "                \"isSplit\": False,\n",
    "            },\n",
    "            \"mapStyle\": {\n",
    "                \"styleType\": \"dark\",\n",
    "                \"topLayerGroups\": {},\n",
    "                \"visibleLayerGroups\": {\n",
    "                    \"label\": True,\n",
    "                    \"road\": True,\n",
    "                    \"border\": False,\n",
    "                    \"building\": True,\n",
    "                    \"water\": True,\n",
    "                    \"land\": True,\n",
    "                    \"3d building\": False,\n",
    "                },\n",
    "                \"threeDBuildingColor\": [\n",
    "                    9.665468314072013,\n",
    "                    17.18305478057247,\n",
    "                    31.1442867897876,\n",
    "                ],\n",
    "                \"mapStyles\": {},\n",
    "            },\n",
    "        },\n",
    "    }\n",
    "    return config\n"
   ]
  },
  {
   "cell_type": "code",
   "execution_count": 106,
   "metadata": {},
   "outputs": [],
   "source": [
    "routes_plot = assigned_stops_route_paths.copy()"
   ]
  },
  {
   "cell_type": "code",
   "execution_count": 107,
   "metadata": {},
   "outputs": [
    {
     "name": "stdout",
     "output_type": "stream",
     "text": [
      "User Guide: https://docs.kepler.gl/docs/keplergl-jupyter\n"
     ]
    },
    {
     "name": "stderr",
     "output_type": "stream",
     "text": [
      "/Users/ejwillemse/dev/waste_labs_dev/app_vukwm_bag_delivery/.venv/lib/python3.10/site-packages/jupyter_client/session.py:718: UserWarning: Message serialization failed with:\n",
      "Out of range float values are not JSON compliant\n",
      "Supporting this message is deprecated in jupyter-client 7, please make sure your message is JSON-compliant\n",
      "  content = self.pack(content)\n"
     ]
    }
   ],
   "source": [
    "m = Kepler(data={\"orders\": routes_plot}, config=return_order_config(), height=750)"
   ]
  },
  {
   "cell_type": "code",
   "execution_count": 108,
   "metadata": {},
   "outputs": [
    {
     "data": {
      "application/vnd.jupyter.widget-view+json": {
       "model_id": "9c3d679bc8004286a7fbec7860db6f15",
       "version_major": 2,
       "version_minor": 0
      },
      "text/plain": [
       "KeplerGl(config={'version': 'v1', 'config': {'visState': {'filters': [{'dataId': ['orders'], 'id': 'yt10dkouq'…"
      ]
     },
     "metadata": {},
     "output_type": "display_data"
    }
   ],
   "source": [
    "m.get_render()"
   ]
  },
  {
   "cell_type": "code",
   "execution_count": 5,
   "metadata": {},
   "outputs": [],
   "source": [
    "from app_vukwm_bag_delivery.return_routes import generate_route_data\n",
    "import pandas as pd"
   ]
  },
  {
   "cell_type": "code",
   "execution_count": null,
   "metadata": {},
   "outputs": [],
   "source": []
  }
 ],
 "metadata": {
  "kernelspec": {
   "display_name": ".venv",
   "language": "python",
   "name": "python3"
  },
  "language_info": {
   "codemirror_mode": {
    "name": "ipython",
    "version": 3
   },
   "file_extension": ".py",
   "mimetype": "text/x-python",
   "name": "python",
   "nbconvert_exporter": "python",
   "pygments_lexer": "ipython3",
   "version": "3.10.8"
  },
  "vscode": {
   "interpreter": {
    "hash": "89fd0eacb724d37dde70dcc8e3c59c1e2f0e30ed8a6f5a6b9c7de3c8bfd8de8f"
   }
  }
 },
 "nbformat": 4,
 "nbformat_minor": 4
}
